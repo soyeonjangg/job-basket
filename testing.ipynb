{
 "cells": [
  {
   "cell_type": "code",
   "execution_count": null,
   "metadata": {},
   "outputs": [],
   "source": [
    "from selenium import webdriver\n",
    "from selenium.webdriver.common.keys import Keys\n",
    "from webdriver_manager.chrome import ChromeDriverManager\n",
    "import pandas as pd\n",
    "\n",
    "driver = webdriver.Chrome(ChromeDriverManager().install())\n",
    "driver.get('https://www.workopolis.com/jobsearch/find-jobs?ak=Data+Scientist&l=&job=QOPFpN8i8WRjSkZiuqD3bMaBCZJX8wjdhBVLxxLISm4ECXZF48MYVA')\n",
    "jobdescriptions = driver.find_elements_by_xpath('//div[@class=\"viewjob-description ViewJob-description\"]')\n",
    "print(jobdescriptions)\n",
    "jd_list = []\n",
    "for p in range(len(jobdescriptions)):\n",
    "    jd_list.append(jobdescriptions[p].text)\n",
    "jd_list\n"
   ]
  },
  {
   "cell_type": "code",
   "execution_count": null,
   "metadata": {},
   "outputs": [],
   "source": []
  }
 ],
 "metadata": {
  "language_info": {
   "name": "python"
  },
  "orig_nbformat": 4
 },
 "nbformat": 4,
 "nbformat_minor": 2
}
