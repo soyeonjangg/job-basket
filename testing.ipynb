{
 "cells": [
  {
   "cell_type": "code",
   "execution_count": 2,
   "metadata": {},
   "outputs": [],
   "source": [
    "from selenium import webdriver\n",
    "from selenium.webdriver.common.keys import Keys\n",
    "from webdriver_manager.chrome import ChromeDriverManager\n",
    "import pandas as pd"
   ]
  },
  {
   "cell_type": "code",
   "execution_count": 25,
   "metadata": {},
   "outputs": [
    {
     "name": "stderr",
     "output_type": "stream",
     "text": [
      "\n",
      "\n",
      "====== WebDriver manager ======\n",
      "Current google-chrome version is 98.0.4758\n",
      "Get LATEST driver version for 98.0.4758\n",
      "Driver [C:\\Users\\joshu\\.wdm\\drivers\\chromedriver\\win32\\98.0.4758.102\\chromedriver.exe] found in cache\n"
     ]
    }
   ],
   "source": [
    "driver = webdriver.Chrome(ChromeDriverManager().install())\n",
    "driver.get('https://www.workopolis.com/jobsearch/find-jobs?ak=Data+Scientist&l=&job=QOPFpN8i8WRjSkZiuqD3bMaBCZJX8wjdhBVLxxLISm4ECXZF48MYVA')"
   ]
  },
  {
   "cell_type": "code",
   "execution_count": 28,
   "metadata": {},
   "outputs": [
    {
     "name": "stdout",
     "output_type": "stream",
     "text": [
      "[<selenium.webdriver.remote.webelement.WebElement (session=\"66c4f55ea368be73154a6f381aaecdf5\", element=\"89c6ed83-8764-4ede-a682-7f045e1244e9\")>]\n"
     ]
    },
    {
     "data": {
      "text/plain": [
       "[\"GALE is a creative media consultancy that brings business insights to brand storytelling and activates it across every channel. With expertise in business strategy, media, CRM, addressable and integrated brand communications, performance marketing, and technology, GALE creates marketing systems and communications that grow businesses. GALE delivers strong outcomes for its partners in automotive, QSR, retail, gaming, entertainment, telecom and more. Founded in 2014, the agency currently has offices in New York, Detroit, Singapore, Toronto, Austin, Los Angeles, London, and Bengaluru.\\nSome Brands We Work With: Chipotle, Seagate, T-Mobile, NBA, MGM, Allstate, Resorts World Genting, BMO, and Santander.\\nIf you’re driven by a passion to build something great, a desire to innovate, and a commitment to achieve excellence in your craft, GALE is a great place for you.\\nInclusion in Hiring\\nGALE is an equal opportunity employer. All applicants will be considered for employment without attention to race, color, religion, sex, sexual orientation, gender identity, national origin, veteran or disability status. Please consider applying for this role even if you do not meet 100% of the suggested requirements, and/or if you have gaps in your resume.\\nAbout the role\\nWe're currently seeking JR Data Scientists to join our rapidly growing data and analytics team - ones that have a passion for working with real world data to derive actionable insights. Successful candidates for the role will work with clients and internal stakeholders to define, prototype, and produce custom solutions using state-of-the-art big data platforms, analytics, and machine learning.\\nThe ideal candidate will have a background in a quantitative field and have experience with large datasets, statistics/analysis, and basic knowledge and/or experience with supervised and unsupervised machine learning. They will be enthusiastic, creative, results focused. You will have the opportunity to work across varying sets of data with a variety of clients.\\nWho you are\\nFluency with SQL on one or more of the following databases - Hive,PostgreSQL,Oracle, SQL Server, MySQL\\nFluency with scripting (Python, Bash, etc.)\\nExperience with statistical programming languages/packages (R, SAS, or Scipy/Numpy/Scikit-learn)\\nExperience with supervised learning algorithms and their application to large data sets\\nExperience ingesting, cleansing, and analyzing large datasets\\nNice to haves\\nExperience with unsupervised clustering algorithms, especially on large data sets\\nSome experience with visualization tools such as ggplot2, plotly, Dash, Tableau, or Power BI.\\nFamiliar with Unix/Linux systems and command-line interfaces and editors\\nFamiliar with the AWS ecosystem\\nWhat you will be doing\\nDefine, build, and present models to internal and external stakeholders in a wide range of industries\\nIngest, manipulate and model large datasets using supervised and unsupervised machine learning techniques to help define the structure of the customer base\\nProduce prototypes, POCs, or APIs to serve models and their outcomes\\nInclusion in the Workplace\\nWe believe in inclusivity and do our best work when people with diverse perspectives, backgrounds and skills are brought together. Our Core Values are at the root of GALE’s collaborative environment and help to foster a strong community.\\nOur Code of Conduct, Human Resources policies and executive investment in inclusion further support and protect GALE’s inclusive workplace.\\nOur Hiring Process\\nWe want you to be just as discerning in making your next career move as we are finding great talent to join our team. Our interview process generally consists of the following stages to allow you to meet a range of people from various disciplines and domains. You will be assessed at each stage before being invited to move to the next.\\nPhone screen with a member of our Talent Acquisition Team\\nInterview with the Hiring Manager, who will generally be your manager.\\nWhere relevant for the role, a technical aptitude test. (i.e. for domains in technology, data science, etc.,…)\\nInterview with a member of our team from a different Department than yours.\\nInterview with a member of our Leadership Team.\\nJob Type: Full-time\\nSalary: $1.00 per year\\nSchedule:\\nMonday to Friday\"]"
      ]
     },
     "execution_count": 28,
     "metadata": {},
     "output_type": "execute_result"
    }
   ],
   "source": [
    "jobdescriptions = driver.find_elements_by_xpath('//div[@class=\"viewjob-description ViewJob-description\"]')\n",
    "print(jobdescriptions)\n",
    "jd_list = []\n",
    "for p in range(len(jobdescriptions)):\n",
    "    jd_list.append(jobdescriptions[p].text)\n",
    "jd_list"
   ]
  },
  {
   "cell_type": "code",
   "execution_count": null,
   "metadata": {},
   "outputs": [],
   "source": []
  }
 ],
 "metadata": {
  "interpreter": {
   "hash": "47a59b68f4c14334b938a311c4d9284db28cf61f8a4f605adee4da16031a8e7a"
  },
  "kernelspec": {
   "display_name": "Python 3.9.1 64-bit",
   "language": "python",
   "name": "python3"
  },
  "language_info": {
   "codemirror_mode": {
    "name": "ipython",
    "version": 3
   },
   "file_extension": ".py",
   "mimetype": "text/x-python",
   "name": "python",
   "nbconvert_exporter": "python",
   "pygments_lexer": "ipython3",
   "version": "3.9.1"
  },
  "orig_nbformat": 4
 },
 "nbformat": 4,
 "nbformat_minor": 2
}
