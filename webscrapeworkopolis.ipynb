{
 "cells": [
  {
   "cell_type": "code",
   "execution_count": 48,
   "metadata": {},
   "outputs": [],
   "source": [
    "import requests\n",
    "import bs4\n",
    "from bs4 import BeautifulSoup\n",
    "import pandas as pd\n",
    "import time\n",
    "from selenium import webdriver\n",
    "from selenium.webdriver.common.keys import Keys\n",
    "from webdriver_manager.chrome import ChromeDriverManager\n",
    "import pandas as pd"
   ]
  },
  {
   "cell_type": "code",
   "execution_count": 49,
   "metadata": {},
   "outputs": [
    {
     "name": "stdout",
     "output_type": "stream",
     "text": [
      "https://www.workopolis.com/jobsearch/find-jobs?ak=Data+Scientist&l=&job=QOPFpN8i8WRjSkZiuqD3bMaBCZJX8wjdhBVLxxLISm4ECXZF48MYVA\n"
     ]
    }
   ],
   "source": [
    "def extract(text1, text2, page, urlwhole):\n",
    "    URL = \"https://www.workopolis.com/jobsearch/find-jobs?ak=\" + text1 + \"+\" + text2 + \"&l=&job=\" + urlwhole\n",
    "    print(URL)\n",
    "    page = requests.get(URL)\n",
    "    soup = BeautifulSoup(page.content, \"html.parser\")\n",
    "    return soup\n",
    "\n",
    "def getRightPage(soup):\n",
    "    link = soup.find_all('article', class_ = 'JobCard')\n",
    "    for val in link:\n",
    "        url = val.get('data-jobkey')\n",
    "        links.append(url)\n",
    "    return\n",
    "\n",
    "links = []\n",
    "for i in range(0, 1):\n",
    "    c = extract(\"Data\", \"Scientist\", i, \"QOPFpN8i8WRjSkZiuqD3bMaBCZJX8wjdhBVLxxLISm4ECXZF48MYVA\")\n",
    "    getRightPage(c)\n"
   ]
  },
  {
   "cell_type": "code",
   "execution_count": 50,
   "metadata": {},
   "outputs": [
    {
     "name": "stdout",
     "output_type": "stream",
     "text": [
      "['ueTSwImUitT7DZks6YOoCdyOjUrjcqxUSmRhVLGLpICP4yPmpWiVAw', '4qdfs6NANMhncciiqVEPsjjRejxSRCPttkTDFqUXGkoTiMR7w_u4FQ', 'QOPFpN8i8WRjSkZiuqD3bMaBCZJX8wjdhBVLxxLISm4ECXZF48MYVA', 'jbd45PbkN10kFuaKFBLiAmpe-Bc_3WrRZj49Z11Sp12Mii9cFCH_dg', 'QOPFpN8i8WRjSkZiuqD3bMaBCZJX8wjdhBVLxxLISm4ECXZF48MYVA', 'BeU7BDU2taI5tGZae533iuA0o7kD1rKUs8Hd2ZPLQjoW0RDIRNOAYw', 'ZBgFZIQeyTqIWk-yXuBHeZqyEDz_nVZJw_bOGa5QQ1QFilqCIqqiMQ', '33ovN4FxZd_mtVwaM3jw5QQDQQ6bzc5i4j2RCqhL1PgWkZ2tYB8QkA', '6U4MEPabICOJmuuzfrbLNOZsRvEvFRC9-OC7i74UAHLx5ot8B6Da8g', 'q5X13xTdC6AV8kVtIQplf05KKkWNr91p7zyu-nYuhJILlsmvsKdF1A', 'I-gWj8YgyiMSoLkB3EE96DJNooL7X4bnkIdj8n03fOnnf69pLfivtg', '3dNQSQURPuW-tBEPsqDq13BHMPlWledQ7bmV0QfOuyRXC2bLzSAWFA', 'SNUdUibfOHYnOq32vahZ4qvRhjO_zDaKErH-JF6FZoxnaMT-olUO_Q', 'XYBxHhJRrgdg09IrlmHxVhYBLO5zvqVdxaGEq21HvmtqUEFyceebUQ', 'TM45vhsJgD0JXdYrQCvmoToHtHrDKd5OYIftcH04ciGIL2KfbP8zhw', 'out0XMvg9yUSgf6F_8WMv_t-nBokAEYDKjyFGRTbMfH7pPfz1P4-7Q', 'n4ToWcOZqLdkF1snciPMRgOBMiOtyihkM_FwFy6hsGKaxN3JPwGItQ', '9ElHrAma8FkY7SBHlI61C56WtjCtErZTSr4gzl2J5TnFq4CRZaEKDA', 'nQWfJB18HuM_bf0bOG0MbVqXNCahM7rN43_94nsexY9P4shQNLSLhw', '9lFdk2zbac7bXSk5CgZ3qIPcu_PvBlJVuwP-xkkYL2dUKmRJSiadBQ', 'Pkug_6Rt2fpcEE5ks2rHE8Pyh_9HhEGeHGsBiiKdR70kJOmAD6vzpQ', 'uWOGLi9f6wwhk7a1onDkF2MJma7a25wsREAhEoiFkoM1_rw0t10Ohg', 'bbneOMvZQkzc1ecECRTCYnj1q8V_Ru1Op6GxgFztdDcbtaL-Bm5fuQ', 'hjC2K1NjofmxmUMokSm8U6YXxfCP3rXqqgf3HcjcMg-MngQby9CU4Q', 'eHKVUhSPww-xDmbcg1rH24mUWA94kyi8dnQ2ZDqDOve4zqjMbQGNaw', 'AOsKp1j028sURXQGhBr8KxWF_bCxaVTH8f6vZVFBXdyMByT5xKU-fw', '_PE0t6DjMKQPEIGDHKkn6h1UwQZ2YBzDsqL_4greN80fyeeQLGRtlA', 'gP-OVxSzT87pny5Oqp5NnZI6t0nrM-1dI_WgcXZRMIIjrD0jF-DMNg', '7AHehBwCC05D8nRWiCSAKa3SPH4IMygn--Wf5BnIu8l_8d6FyQQN9w']\n"
     ]
    }
   ],
   "source": [
    "print(links)"
   ]
  },
  {
   "cell_type": "code",
   "execution_count": 51,
   "metadata": {},
   "outputs": [],
   "source": [
    "def runDriverLink(job_one, job_two, link):\n",
    "    driver = webdriver.Chrome(ChromeDriverManager().install())\n",
    "    url = 'https://www.workopolis.com/jobsearch/find-jobs?ak=' + job_one + '+' + job_two + '&l=&job=' + link\n",
    "    driver.get('https://www.workopolis.com/jobsearch/find-jobs?ak=' + job_one + '+' + job_two + '&l=&job=' + link)\n",
    "    return driver\n",
    "\n",
    "def runDriver(driver, ls):\n",
    "    title = driver.find_elements_by_xpath('//div[@class=\"ViewJobHeader-title\"]')\n",
    "    company = driver.find_elements_by_xpath('//div[@class=\"ViewJobHeader-company\"]')\n",
    "    jobdescriptions = driver.find_elements_by_xpath('//div[@class=\"viewjob-description ViewJob-description\"]')\n",
    "    for p in range(len(title)):\n",
    "        ls['title'] = title[p].text\n",
    "    for p in range(len(company)):\n",
    "        ls['company'] = company[p].text\n",
    "    for p in range(len(jobdescriptions)):\n",
    "        ls['description'] = jobdescriptions[p].text\n",
    "\n",
    "    try:\n",
    "        salary = driver.find_elements_by_xpath('//span[@class=\"Salary\"]')\n",
    "        for p in range(len(salary)):\n",
    "            ls['salary'] = salary[p].text\n",
    "    except:\n",
    "        ls['salary'] = None\n",
    "\n",
    "    return ls\n"
   ]
  },
  {
   "cell_type": "code",
   "execution_count": 56,
   "metadata": {},
   "outputs": [
    {
     "name": "stderr",
     "output_type": "stream",
     "text": [
      "\n",
      "\n",
      "====== WebDriver manager ======\n",
      "Could not get version for google-chrome with the command:  powershell \"$ErrorActionPreference='silentlycontinue' ; (Get-Item -Path \"$env:PROGRAMFILES\\Google\\Chrome\\Application\\chrome.exe\").VersionInfo.FileVersion ; if (-not $? -or $? -match $error) { (Get-Item -Path \"$env:PROGRAMFILES(x86)\\Google\\Chrome\\Application\\chrome.exe\").VersionInfo.FileVersion } if (-not $? -or $? -match $error) { (Get-Item -Path \"$env:LOCALAPPDATA\\Google\\Chrome\\Application\\chrome.exe\").VersionInfo.FileVersion } if (-not $? -or $? -match $error) { reg query \"HKCU\\SOFTWARE\\Google\\Chrome\\BLBeacon\" /v version } if (-not $? -or $? -match $error) { reg query \"HKLM\\SOFTWARE\\Wow6432Node\\Microsoft\\Windows\\CurrentVersion\\Uninstall\\Google Chrome\" /v version }\"\n",
      "Current google-chrome version is UNKNOWN\n",
      "Get LATEST chromedriver version for UNKNOWN google-chrome\n",
      "Trying to download new driver from https://chromedriver.storage.googleapis.com/98.0.4758.102/chromedriver_win32.zip\n",
      "Driver has been saved in cache [C:\\Users\\joshu\\.wdm\\drivers\\chromedriver\\win32\\98.0.4758.102]\n",
      "<ipython-input-51-4422fff40775>:2: DeprecationWarning: executable_path has been deprecated, please pass in a Service object\n",
      "  driver = webdriver.Chrome(ChromeDriverManager().install())\n",
      "<ipython-input-51-4422fff40775>:8: DeprecationWarning: find_elements_by_xpath is deprecated. Please use find_elements(by=By.XPATH, value=xpath) instead\n",
      "  title = driver.find_elements_by_xpath('//div[@class=\"ViewJobHeader-title\"]')\n",
      "<ipython-input-51-4422fff40775>:9: DeprecationWarning: find_elements_by_xpath is deprecated. Please use find_elements(by=By.XPATH, value=xpath) instead\n",
      "  company = driver.find_elements_by_xpath('//div[@class=\"ViewJobHeader-company\"]')\n",
      "<ipython-input-51-4422fff40775>:10: DeprecationWarning: find_elements_by_xpath is deprecated. Please use find_elements(by=By.XPATH, value=xpath) instead\n",
      "  jobdescriptions = driver.find_elements_by_xpath('//div[@class=\"viewjob-description ViewJob-description\"]')\n",
      "<ipython-input-51-4422fff40775>:19: DeprecationWarning: find_elements_by_xpath is deprecated. Please use find_elements(by=By.XPATH, value=xpath) instead\n",
      "  salary = driver.find_elements_by_xpath('//span[@class=\"Salary\"]')\n",
      "\n",
      "\n",
      "====== WebDriver manager ======\n",
      "Could not get version for google-chrome with the command:  powershell \"$ErrorActionPreference='silentlycontinue' ; (Get-Item -Path \"$env:PROGRAMFILES\\Google\\Chrome\\Application\\chrome.exe\").VersionInfo.FileVersion ; if (-not $? -or $? -match $error) { (Get-Item -Path \"$env:PROGRAMFILES(x86)\\Google\\Chrome\\Application\\chrome.exe\").VersionInfo.FileVersion } if (-not $? -or $? -match $error) { (Get-Item -Path \"$env:LOCALAPPDATA\\Google\\Chrome\\Application\\chrome.exe\").VersionInfo.FileVersion } if (-not $? -or $? -match $error) { reg query \"HKCU\\SOFTWARE\\Google\\Chrome\\BLBeacon\" /v version } if (-not $? -or $? -match $error) { reg query \"HKLM\\SOFTWARE\\Wow6432Node\\Microsoft\\Windows\\CurrentVersion\\Uninstall\\Google Chrome\" /v version }\"\n",
      "Current google-chrome version is UNKNOWN\n",
      "Get LATEST chromedriver version for UNKNOWN google-chrome\n",
      "Trying to download new driver from https://chromedriver.storage.googleapis.com/98.0.4758.102/chromedriver_win32.zip\n",
      "Driver has been saved in cache [C:\\Users\\joshu\\.wdm\\drivers\\chromedriver\\win32\\98.0.4758.102]\n",
      "\n",
      "\n",
      "====== WebDriver manager ======\n",
      "Could not get version for google-chrome with the command:  powershell \"$ErrorActionPreference='silentlycontinue' ; (Get-Item -Path \"$env:PROGRAMFILES\\Google\\Chrome\\Application\\chrome.exe\").VersionInfo.FileVersion ; if (-not $? -or $? -match $error) { (Get-Item -Path \"$env:PROGRAMFILES(x86)\\Google\\Chrome\\Application\\chrome.exe\").VersionInfo.FileVersion } if (-not $? -or $? -match $error) { (Get-Item -Path \"$env:LOCALAPPDATA\\Google\\Chrome\\Application\\chrome.exe\").VersionInfo.FileVersion } if (-not $? -or $? -match $error) { reg query \"HKCU\\SOFTWARE\\Google\\Chrome\\BLBeacon\" /v version } if (-not $? -or $? -match $error) { reg query \"HKLM\\SOFTWARE\\Wow6432Node\\Microsoft\\Windows\\CurrentVersion\\Uninstall\\Google Chrome\" /v version }\"\n",
      "Current google-chrome version is UNKNOWN\n",
      "Get LATEST chromedriver version for UNKNOWN google-chrome\n",
      "Trying to download new driver from https://chromedriver.storage.googleapis.com/98.0.4758.102/chromedriver_win32.zip\n",
      "Driver has been saved in cache [C:\\Users\\joshu\\.wdm\\drivers\\chromedriver\\win32\\98.0.4758.102]\n",
      "\n",
      "\n",
      "====== WebDriver manager ======\n",
      "Could not get version for google-chrome with the command:  powershell \"$ErrorActionPreference='silentlycontinue' ; (Get-Item -Path \"$env:PROGRAMFILES\\Google\\Chrome\\Application\\chrome.exe\").VersionInfo.FileVersion ; if (-not $? -or $? -match $error) { (Get-Item -Path \"$env:PROGRAMFILES(x86)\\Google\\Chrome\\Application\\chrome.exe\").VersionInfo.FileVersion } if (-not $? -or $? -match $error) { (Get-Item -Path \"$env:LOCALAPPDATA\\Google\\Chrome\\Application\\chrome.exe\").VersionInfo.FileVersion } if (-not $? -or $? -match $error) { reg query \"HKCU\\SOFTWARE\\Google\\Chrome\\BLBeacon\" /v version } if (-not $? -or $? -match $error) { reg query \"HKLM\\SOFTWARE\\Wow6432Node\\Microsoft\\Windows\\CurrentVersion\\Uninstall\\Google Chrome\" /v version }\"\n",
      "Current google-chrome version is UNKNOWN\n",
      "Get LATEST chromedriver version for UNKNOWN google-chrome\n",
      "Trying to download new driver from https://chromedriver.storage.googleapis.com/98.0.4758.102/chromedriver_win32.zip\n",
      "Driver has been saved in cache [C:\\Users\\joshu\\.wdm\\drivers\\chromedriver\\win32\\98.0.4758.102]\n"
     ]
    }
   ],
   "source": [
    "joblist = []\n",
    "\n",
    "counter = 0\n",
    "for val in links:\n",
    "    dict = {'title': None, 'company': None, 'salary': None, 'description': None}\n",
    "    arr = runDriverLink('Data', 'Scientist', val)\n",
    "    ls = runDriver(arr, dict)\n",
    "    joblist.append(ls)\n",
    "    if(counter == 3):\n",
    "        break\n",
    "    counter += 1"
   ]
  },
  {
   "cell_type": "code",
   "execution_count": 57,
   "metadata": {},
   "outputs": [
    {
     "name": "stdout",
     "output_type": "stream",
     "text": [
      "[{'title': 'Machine Learning Engineer', 'company': 'Manulife', 'salary': 'Estimated: $56,000 - $71,000 a year', 'description': \"Are you looking for a supportive, collaborative workplace with great teams and inspiring leaders? You’ve come to the right place. We’re looking for ambitious people who share our values and want to make every day better for people around the world. If this sounds like you, and the career below sounds exciting, we’d like to hear from you.\\n\\nWorking Arrangement\\n\\nHybrid\\n\\nJob Description\\n\\nML Engineers and Senior ML Engineers will be a part of the Group Advanced Analytics team and will be tasked with packaging models, automating workflow, and operationalizing analytics solutions to generate business value to various parts of the JH/Manulife. The ideal candidate must be an advanced programmer with a good understanding of Data Science, Data Engineering, Application development, Software Engineering, and DevOps.\\n\\nTypical Qualification:\\nBachelor's degree in Computer Science, Data Science, Applied Math, Engineering, Operation Research, Statistics, or other related quantitative fields. MS or Ph.D. preferred.\\n\\nKey Accountabilities:\\nBrings a unique skillset that overlaps with Data Science, Data Engineering, Application development, Software Engineering and DevOps\\n\\nHas a clear understanding of how to convert a model into user-friendly application\\n\\nManage data science infrastructure to streamline model development and deployment\\n\\nArchitecting, developing, optimizing, and owning the deployment of ML functionalities into production systems\\n\\nDesign and evaluate new approaches for handling high-volume real-time data streams in an inferencing environment\\n\\nDefining best practices for code, APIs, and frameworks that will lay the foundation for MLOps capabilities\\n\\nProposing appropriate tools (languages/libraries/frameworks) for implementing projects\\n\\nWorking closely with Infrastructure architects to design scalable and cost-effective solutions\\n\\nFollowing Software Deployment and QA processes and MLOps best practices\\n\\nDevelop measurements and feedback systems\\n\\nModel testing, production and deployment and Continuous integration/continuous delivery\\n\\nWork as part of a team with frequent interactions with data scientists. Daily activities may also require close touchpoints with architecture, cloud, data engineering, and risk management teams\\n\\nKey Experiences:\\nHands-on experience with large-scale systems in software engineering\\n\\nExperience in productionizing code through DevOps pipeline (git, Jenkins pipeline, code scan)\\n\\nFamiliarity with big data processing and building data APIs. Experience with automated data quality frameworks is a plus.\\n\\nWorking experience in building and deploying machine learning models as REST-based API using Flask, Elasticsearch, etc.\\n\\nStrong software development skills with proficiency in Python\\n\\nAdvanced working SQL knowledge and experience working with relational databases and SQL\\n\\nExperience in infrastructure, including Cloud Computing, Linux OS, Networks, Docker, Kubernetes, RDBMS and NoSQL Databases\\n\\nExperience working with cloud native architecture (PaaS) using Azure stack preferably and experience with Azure ML, DataBricks (Spark), Azure Data Factory will be an asset.\\n\\nExperience in building ETL pipelines to perform feature engineering on large-scale dataset using Spark\\n\\nAn ability to balance a sense of urgency with shipping high quality and pragmatic solutions\\n\\nExperience with user interface design (UX, PowerBI, node.js) and iterative customer-driven design processes would be an asset.\\n\\nExperience with Infrastructure as code (Terraform/ARM) is an asset\\n\\nExpertise delivering analytics & machine learning products, with a deep understanding of agile product delivery in an enterprise environment\\n\\nEvery career at Manulife/John Hancock provides the opportunity to learn new skills and move your career forward. Ready to make an impact somewhere? What are you waiting for? Apply today.\\n\\nAbout John Hancock and Manulife\\n\\nJohn Hancock is a unit of Manulife Financial Corporation, a leading international financial services group that helps people make their decisions easier and lives better. We operate primarily as John Hancock in the United States, and Manulife globally, including Canada, Asia and Europe. We provide financial advice, insurance and wealth and asset management solutions for individuals, groups and institutions. Assets under management and administration by Manulife and its subsidiaries were CAD$1.3 trillion (US$1.1 trillion) as of June 30, 2021. Manulife Financial Corporation trades as MFC on the TSX, NYSE, and PSE, and under 945 on the SEHK. Manulife can be found at manulife.com .\\n\\nOne of the largest life insurers in the United States, John Hancock supports more than 10 million Americans with a broad range of financial products, including life insurance , annuities , investments , 401(k) plans , and education savings plans . Additional information about John Hancock may be found at johnhancock.com .\\n\\nManulife is an Equal Opportunity Employer\\n\\nAt Manulife /John Hancock , we embrace our diversity. We strive to attract, develop and retain a workforce that is as diverse as the customers we serve and to foster an inclusive work environment that embraces the strength of cultures and individuals. We are committed to fair recruitment, retention, advancement and compensation, and we administer all of our practices and programs without discrimination on the basis of race, ancestry, place of origin, colour , ethnic origin, citizenship, religion or religious beliefs, creed, sex (including pregnancy and pregnancy-related conditions), sexual orientation, genetic characteristics, veteran status, gender identity, gender expression, age, marital status, family status, disability, or any other ground protected by applicable law.\\n\\nIt is our priority to remove barriers to provide equal access to employment. A Human Resources representative will work with applicants who request a reasonable accommodation during the application process . All information shared during the accommodation request process will be stored and used in a manner that is consistent with applicable laws and Manulife/John Hancock policies . To request a reasonable accommodation in the application process, contact recruitment@manulife.com .\"}, {'title': 'Machine Learning Engineer', 'company': 'Manulife', 'salary': 'Estimated: $56,000 - $71,000 a year', 'description': \"Are you looking for a supportive, collaborative workplace with great teams and inspiring leaders? You’ve come to the right place. We’re looking for ambitious people who share our values and want to make every day better for people around the world. If this sounds like you, and the career below sounds exciting, we’d like to hear from you.\\n\\nWorking Arrangement\\n\\nHybrid\\n\\nJob Description\\n\\nML Engineers and Senior ML Engineers will be a part of the Group Advanced Analytics team and will be tasked with packaging models, automating workflow, and operationalizing analytics solutions to generate business value to various parts of the JH/Manulife. The ideal candidate must be an advanced programmer with a good understanding of Data Science, Data Engineering, Application development, Software Engineering, and DevOps.\\n\\nTypical Qualification:\\nBachelor's degree in Computer Science, Data Science, Applied Math, Engineering, Operation Research, Statistics, or other related quantitative fields. MS or Ph.D. preferred.\\n\\nKey Accountabilities:\\nBrings a unique skillset that overlaps with Data Science, Data Engineering, Application development, Software Engineering and DevOps\\n\\nHas a clear understanding of how to convert a model into user-friendly application\\n\\nManage data science infrastructure to streamline model development and deployment\\n\\nArchitecting, developing, optimizing, and owning the deployment of ML functionalities into production systems\\n\\nDesign and evaluate new approaches for handling high-volume real-time data streams in an inferencing environment\\n\\nDefining best practices for code, APIs, and frameworks that will lay the foundation for MLOps capabilities\\n\\nProposing appropriate tools (languages/libraries/frameworks) for implementing projects\\n\\nWorking closely with Infrastructure architects to design scalable and cost-effective solutions\\n\\nFollowing Software Deployment and QA processes and MLOps best practices\\n\\nDevelop measurements and feedback systems\\n\\nModel testing, production and deployment and Continuous integration/continuous delivery\\n\\nWork as part of a team with frequent interactions with data scientists. Daily activities may also require close touchpoints with architecture, cloud, data engineering, and risk management teams\\n\\nKey Experiences:\\nHands-on experience with large-scale systems in software engineering\\n\\nExperience in productionizing code through DevOps pipeline (git, Jenkins pipeline, code scan)\\n\\nFamiliarity with big data processing and building data APIs. Experience with automated data quality frameworks is a plus.\\n\\nWorking experience in building and deploying machine learning models as REST-based API using Flask, Elasticsearch, etc.\\n\\nStrong software development skills with proficiency in Python\\n\\nAdvanced working SQL knowledge and experience working with relational databases and SQL\\n\\nExperience in infrastructure, including Cloud Computing, Linux OS, Networks, Docker, Kubernetes, RDBMS and NoSQL Databases\\n\\nExperience working with cloud native architecture (PaaS) using Azure stack preferably and experience with Azure ML, DataBricks (Spark), Azure Data Factory will be an asset.\\n\\nExperience in building ETL pipelines to perform feature engineering on large-scale dataset using Spark\\n\\nAn ability to balance a sense of urgency with shipping high quality and pragmatic solutions\\n\\nExperience with user interface design (UX, PowerBI, node.js) and iterative customer-driven design processes would be an asset.\\n\\nExperience with Infrastructure as code (Terraform/ARM) is an asset\\n\\nExpertise delivering analytics & machine learning products, with a deep understanding of agile product delivery in an enterprise environment\\n\\nEvery career at Manulife/John Hancock provides the opportunity to learn new skills and move your career forward. Ready to make an impact somewhere? What are you waiting for? Apply today.\\n\\nAbout John Hancock and Manulife\\n\\nJohn Hancock is a unit of Manulife Financial Corporation, a leading international financial services group that helps people make their decisions easier and lives better. We operate primarily as John Hancock in the United States, and Manulife globally, including Canada, Asia and Europe. We provide financial advice, insurance and wealth and asset management solutions for individuals, groups and institutions. Assets under management and administration by Manulife and its subsidiaries were CAD$1.3 trillion (US$1.1 trillion) as of June 30, 2021. Manulife Financial Corporation trades as MFC on the TSX, NYSE, and PSE, and under 945 on the SEHK. Manulife can be found at manulife.com .\\n\\nOne of the largest life insurers in the United States, John Hancock supports more than 10 million Americans with a broad range of financial products, including life insurance , annuities , investments , 401(k) plans , and education savings plans . Additional information about John Hancock may be found at johnhancock.com .\\n\\nManulife is an Equal Opportunity Employer\\n\\nAt Manulife /John Hancock , we embrace our diversity. We strive to attract, develop and retain a workforce that is as diverse as the customers we serve and to foster an inclusive work environment that embraces the strength of cultures and individuals. We are committed to fair recruitment, retention, advancement and compensation, and we administer all of our practices and programs without discrimination on the basis of race, ancestry, place of origin, colour , ethnic origin, citizenship, religion or religious beliefs, creed, sex (including pregnancy and pregnancy-related conditions), sexual orientation, genetic characteristics, veteran status, gender identity, gender expression, age, marital status, family status, disability, or any other ground protected by applicable law.\\n\\nIt is our priority to remove barriers to provide equal access to employment. A Human Resources representative will work with applicants who request a reasonable accommodation during the application process . All information shared during the accommodation request process will be stored and used in a manner that is consistent with applicable laws and Manulife/John Hancock policies . To request a reasonable accommodation in the application process, contact recruitment@manulife.com .\"}, {'title': 'Jr. Data Scientist', 'company': 'GALE Partners', 'salary': 'Estimated: $62,000 - $82,000 a year', 'description': \"GALE is a creative media consultancy that brings business insights to brand storytelling and activates it across every channel. With expertise in business strategy, media, CRM, addressable and integrated brand communications, performance marketing, and technology, GALE creates marketing systems and communications that grow businesses. GALE delivers strong outcomes for its partners in automotive, QSR, retail, gaming, entertainment, telecom and more. Founded in 2014, the agency currently has offices in New York, Detroit, Singapore, Toronto, Austin, Los Angeles, London, and Bengaluru.\\nSome Brands We Work With: Chipotle, Seagate, T-Mobile, NBA, MGM, Allstate, Resorts World Genting, BMO, and Santander.\\nIf you’re driven by a passion to build something great, a desire to innovate, and a commitment to achieve excellence in your craft, GALE is a great place for you.\\nInclusion in Hiring\\nGALE is an equal opportunity employer. All applicants will be considered for employment without attention to race, color, religion, sex, sexual orientation, gender identity, national origin, veteran or disability status. Please consider applying for this role even if you do not meet 100% of the suggested requirements, and/or if you have gaps in your resume.\\nAbout the role\\nWe're currently seeking JR Data Scientists to join our rapidly growing data and analytics team - ones that have a passion for working with real world data to derive actionable insights. Successful candidates for the role will work with clients and internal stakeholders to define, prototype, and produce custom solutions using state-of-the-art big data platforms, analytics, and machine learning.\\nThe ideal candidate will have a background in a quantitative field and have experience with large datasets, statistics/analysis, and basic knowledge and/or experience with supervised and unsupervised machine learning. They will be enthusiastic, creative, results focused. You will have the opportunity to work across varying sets of data with a variety of clients.\\nWho you are\\nFluency with SQL on one or more of the following databases - Hive,PostgreSQL,Oracle, SQL Server, MySQL\\nFluency with scripting (Python, Bash, etc.)\\nExperience with statistical programming languages/packages (R, SAS, or Scipy/Numpy/Scikit-learn)\\nExperience with supervised learning algorithms and their application to large data sets\\nExperience ingesting, cleansing, and analyzing large datasets\\nNice to haves\\nExperience with unsupervised clustering algorithms, especially on large data sets\\nSome experience with visualization tools such as ggplot2, plotly, Dash, Tableau, or Power BI.\\nFamiliar with Unix/Linux systems and command-line interfaces and editors\\nFamiliar with the AWS ecosystem\\nWhat you will be doing\\nDefine, build, and present models to internal and external stakeholders in a wide range of industries\\nIngest, manipulate and model large datasets using supervised and unsupervised machine learning techniques to help define the structure of the customer base\\nProduce prototypes, POCs, or APIs to serve models and their outcomes\\nInclusion in the Workplace\\nWe believe in inclusivity and do our best work when people with diverse perspectives, backgrounds and skills are brought together. Our Core Values are at the root of GALE’s collaborative environment and help to foster a strong community.\\nOur Code of Conduct, Human Resources policies and executive investment in inclusion further support and protect GALE’s inclusive workplace.\\nOur Hiring Process\\nWe want you to be just as discerning in making your next career move as we are finding great talent to join our team. Our interview process generally consists of the following stages to allow you to meet a range of people from various disciplines and domains. You will be assessed at each stage before being invited to move to the next.\\nPhone screen with a member of our Talent Acquisition Team\\nInterview with the Hiring Manager, who will generally be your manager.\\nWhere relevant for the role, a technical aptitude test. (i.e. for domains in technology, data science, etc.,…)\\nInterview with a member of our team from a different Department than yours.\\nInterview with a member of our Leadership Team.\\nJob Type: Full-time\\nSalary: $1.00 per year\\nSchedule:\\nMonday to Friday\"}, {'title': 'Big Data Scientist | Co-op', 'company': 'Economical Insurance', 'salary': 'Estimated: $56,000 - $71,000 a year', 'description': \"Job ID : 5340\\nCategory : Personal Insurance\\nBrand : Economical\\nRegular/Temporary : Temporary\\nFulltime/Parttime : Full Time\\nLocation : Waterloo, Canada\\n\\nLOVE WHAT YOU DO\\n\\nCan a 150-year-old company think outside the box? Count on it. Deep experience is our springboard for innovation, whether that’s in how we work with our broker network, how we serve our customers, or how we support our employees.\\n\\nEconomical is part of Definity, a Canadian, multi-channel, property and casualty insurance company whose success is founded on our family of companies’ long history of delivering a superior experience for those who count on us. We’re proud to help our customers, broker partners, employees, and communities adapt and thrive in a world of constant change. Our success in transforming into a digital leader in our industry is driven by a talented and engaged team with a passion for innovation and high performance.\\n\\nYOUR NEXT CO-OP PLACEMENT - Big Data Scientist\\n\\nLOVE WHAT YOU DO\\n\\nFrom classroom to co-op to career, every step of your journey has an impact on your future. That's why it makes sense to choose a co-op placement with a company that offers truly rewarding work and real-life experience. At Economical Insurance®, your contributions, creativity, and energy will be put to good use, and you'll get to be involved with initiatives that support our strategic goals and use your skills in a supportive team environment.\\n\\nEconomical is part of Definity, a Canadian, multi-channel, property and casualty insurance company whose success is founded on our family of companies' long history of delivering a superior experience for those who count on us. We're proud to help our customers, broker partners, employees, and communities adapt and thrive in a world of constant change. Our success in transforming into a digital leader in our industry is driven by a talented and engaged team with a passion for innovation and high performance.\\n\\nIf you're looking for a company that takes care of its people - full time, part time, and co-ops alike - and has a track record of doing big things, get ready to love it here.\\n\\nWhat can you expect in this role?\\n\\nReporting to a Modelling & Pricing Analytics Manager within Product, Pricing & Analytics, Data Engineers are responsible for core analytical support to Economical's leading digital analytics initiatives. This opportunity presents exposure to big data engineering and data pipeline work in insurance.\\n\\nBuild and optimize robust data pipelines between different systems with the Hadoop platform (yes, we're talking big data) to produce high quality data structures;\\nDevelop and apply professional experience with Spark, big data environment and best in class expertise/training;\\nIncrease automation and scaling of complex data sets based on the customer's analytic use cases, such as structured data delivery for business analysis.\\n\\nWhat do you bring to the role?\\n\\nUniversity degree - open to undergraduate/graduate students;\\nStrong foundation in Software Engineering, Core Computer Science;\\nMust have excellent communication and organizational skills.\\nExperience with Scala, Python, or Java;\\nKnowledge of MapReduce, Data Pipelines is a plus;\\nKnowledge of Hadoop, Spark, Git is a plus.\\n\\nWe also take potential into consideration. If you don't have this exact experience, but you know you have what it takes, be sure to give us more insight through your application and cover letter.\\n\\nGo ahead and expect a lot - you deserve it.\\n\\nWe offer:\\nMeaningful work\\nBright, open workspaces in our offices, plus the flexibility to work remotely\\nThree national employee resource groups focused on inclusion and the experience of immigrants to Canada, the LGBTQ+ community, and women in leadership\\nOnsite health and wellness programs\\nSpirit days and a company-wide social committee enhance our employee experience\\nDid you know?\\nWe care about our co-ops: Economical's co-op students are considered the best pipeline of talent for our full-time, permanent positions.\\nWe care about students: Economical distributes $85,000 in scholarships to students across Canada each year.\\nWe care about our community: Economical donates more than $1 million every year to causes that drive true change in the neighbourhoods in which we live and work.\\nVisit economical.com to learn more about us and what we're up to.\\n\\nWe also take potential into consideration. If you don’t have this exact experience, but you know you have what it takes, be sure to give us more insight through your application and cover letter.\\n\\nGo ahead and expect a lot — you deserve it, and we’ve got it:\\nHybrid work schedule for most roles\\nCompany share ownership program\\nPension and savings programs, with company-matched RRSP contributions\\nPaid volunteer days and company matching on charitable donations\\nEducational resources, tuition assistance, and paid time off to study for exams\\nFocus on inclusion with employee groups, support for gender affirmation surgery, access to BIPOC counsellors, access to programs for working parents\\nWellness and recognition programs\\nDiscounts on products and services\\n\\nOur inclusive work environment welcomes diversity and supports accessibility. If you require accommodation at any time during the recruitment process, please let us know by contacting: [email protected]\\n\\nBackground checks\\nThis role requires successful clearance of a background check (including criminal checks and leadership references).\"}]\n"
     ]
    }
   ],
   "source": [
    "print(joblist)"
   ]
  },
  {
   "cell_type": "code",
   "execution_count": 67,
   "metadata": {},
   "outputs": [],
   "source": [
    "dataTitle = []\n",
    "dataCompany = []\n",
    "dataSalary = []\n",
    "dataDescription = []\n",
    "for val in joblist:\n",
    "    dataTitle.append(val['title'])\n",
    "    dataCompany.append(val['company'])\n",
    "    dataSalary.append(val['salary'])\n",
    "    dataDescription.append(val['description'])\n",
    "\n",
    "df = pd.DataFrame({'title': dataTitle, 'company': dataCompany, 'salary': dataSalary, 'description': dataDescription})\n",
    "df = df.iloc[1: , :]"
   ]
  },
  {
   "cell_type": "code",
   "execution_count": 68,
   "metadata": {},
   "outputs": [
    {
     "data": {
      "text/html": [
       "<div>\n",
       "<style scoped>\n",
       "    .dataframe tbody tr th:only-of-type {\n",
       "        vertical-align: middle;\n",
       "    }\n",
       "\n",
       "    .dataframe tbody tr th {\n",
       "        vertical-align: top;\n",
       "    }\n",
       "\n",
       "    .dataframe thead th {\n",
       "        text-align: right;\n",
       "    }\n",
       "</style>\n",
       "<table border=\"1\" class=\"dataframe\">\n",
       "  <thead>\n",
       "    <tr style=\"text-align: right;\">\n",
       "      <th></th>\n",
       "      <th>title</th>\n",
       "      <th>company</th>\n",
       "      <th>salary</th>\n",
       "      <th>description</th>\n",
       "    </tr>\n",
       "  </thead>\n",
       "  <tbody>\n",
       "    <tr>\n",
       "      <th>1</th>\n",
       "      <td>Machine Learning Engineer</td>\n",
       "      <td>Manulife</td>\n",
       "      <td>Estimated: $56,000 - $71,000 a year</td>\n",
       "      <td>Are you looking for a supportive, collaborativ...</td>\n",
       "    </tr>\n",
       "    <tr>\n",
       "      <th>2</th>\n",
       "      <td>Jr. Data Scientist</td>\n",
       "      <td>GALE Partners</td>\n",
       "      <td>Estimated: $62,000 - $82,000 a year</td>\n",
       "      <td>GALE is a creative media consultancy that brin...</td>\n",
       "    </tr>\n",
       "    <tr>\n",
       "      <th>3</th>\n",
       "      <td>Big Data Scientist | Co-op</td>\n",
       "      <td>Economical Insurance</td>\n",
       "      <td>Estimated: $56,000 - $71,000 a year</td>\n",
       "      <td>Job ID : 5340\\nCategory : Personal Insurance\\n...</td>\n",
       "    </tr>\n",
       "  </tbody>\n",
       "</table>\n",
       "</div>"
      ],
      "text/plain": [
       "                        title               company  \\\n",
       "1   Machine Learning Engineer              Manulife   \n",
       "2          Jr. Data Scientist         GALE Partners   \n",
       "3  Big Data Scientist | Co-op  Economical Insurance   \n",
       "\n",
       "                                salary  \\\n",
       "1  Estimated: $56,000 - $71,000 a year   \n",
       "2  Estimated: $62,000 - $82,000 a year   \n",
       "3  Estimated: $56,000 - $71,000 a year   \n",
       "\n",
       "                                         description  \n",
       "1  Are you looking for a supportive, collaborativ...  \n",
       "2  GALE is a creative media consultancy that brin...  \n",
       "3  Job ID : 5340\\nCategory : Personal Insurance\\n...  "
      ]
     },
     "execution_count": 68,
     "metadata": {},
     "output_type": "execute_result"
    }
   ],
   "source": [
    "df"
   ]
  },
  {
   "cell_type": "code",
   "execution_count": null,
   "metadata": {},
   "outputs": [],
   "source": []
  }
 ],
 "metadata": {
  "interpreter": {
   "hash": "be2e7877c44afa397199e9cfbcd571547135c18cd55cff007376fb6d8ac3a739"
  },
  "kernelspec": {
   "display_name": "Python 3.8.5 ('base')",
   "language": "python",
   "name": "python3"
  },
  "language_info": {
   "codemirror_mode": {
    "name": "ipython",
    "version": 3
   },
   "file_extension": ".py",
   "mimetype": "text/x-python",
   "name": "python",
   "nbconvert_exporter": "python",
   "pygments_lexer": "ipython3",
   "version": "3.8.5"
  },
  "orig_nbformat": 4
 },
 "nbformat": 4,
 "nbformat_minor": 2
}
