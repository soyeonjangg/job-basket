{
 "cells": [
  {
   "cell_type": "code",
   "execution_count": 48,
   "metadata": {},
   "outputs": [],
   "source": [
    "import requests\n",
    "import bs4\n",
    "from bs4 import BeautifulSoup\n",
    "import pandas as pd\n",
    "import time\n",
    "from selenium import webdriver\n",
    "from selenium.webdriver.common.keys import Keys\n",
    "from webdriver_manager.chrome import ChromeDriverManager\n",
    "import pandas as pd"
   ]
  },
  {
   "cell_type": "code",
   "execution_count": 49,
   "metadata": {},
   "outputs": [
    {
     "name": "stdout",
     "output_type": "stream",
     "text": [
      "https://www.workopolis.com/jobsearch/find-jobs?ak=Data+Scientist&l=&job=QOPFpN8i8WRjSkZiuqD3bMaBCZJX8wjdhBVLxxLISm4ECXZF48MYVA\n"
     ]
    }
   ],
   "source": [
    "def extract(text1, text2, page, urlwhole):\n",
    "    URL = \"https://www.workopolis.com/jobsearch/find-jobs?ak=\" + text1 + \"+\" + text2 + \"&l=&job=\" + urlwhole\n",
    "    print(URL)\n",
    "    page = requests.get(URL)\n",
    "    soup = BeautifulSoup(page.content, \"html.parser\")\n",
    "    return soup\n",
    "\n",
    "def getRightPage(soup):\n",
    "    link = soup.find_all('article', class_ = 'JobCard')\n",
    "    for val in link:\n",
    "        url = val.get('data-jobkey')\n",
    "        links.append(url)\n",
    "    return\n",
    "\n",
    "links = []\n",
    "for i in range(0, 1):\n",
    "    c = extract(\"Data\", \"Scientist\", i, \"QOPFpN8i8WRjSkZiuqD3bMaBCZJX8wjdhBVLxxLISm4ECXZF48MYVA\")\n",
    "    getRightPage(c)\n"
   ]
  },
  {
   "cell_type": "code",
   "execution_count": 51,
   "metadata": {},
   "outputs": [],
   "source": [
    "def runDriverLink(job_one, job_two, link):\n",
    "    driver = webdriver.Chrome(ChromeDriverManager().install())\n",
    "    url = 'https://www.workopolis.com/jobsearch/find-jobs?ak=' + job_one + '+' + job_two + '&l=&job=' + link\n",
    "    driver.get('https://www.workopolis.com/jobsearch/find-jobs?ak=' + job_one + '+' + job_two + '&l=&job=' + link)\n",
    "    return driver\n",
    "\n",
    "def runDriver(driver, ls):\n",
    "    title = driver.find_elements_by_xpath('//div[@class=\"ViewJobHeader-title\"]')\n",
    "    company = driver.find_elements_by_xpath('//div[@class=\"ViewJobHeader-company\"]')\n",
    "    jobdescriptions = driver.find_elements_by_xpath('//div[@class=\"viewjob-description ViewJob-description\"]')\n",
    "    for p in range(len(title)):\n",
    "        ls['title'] = title[p].text\n",
    "    for p in range(len(company)):\n",
    "        ls['company'] = company[p].text\n",
    "    for p in range(len(jobdescriptions)):\n",
    "        ls['description'] = jobdescriptions[p].text\n",
    "\n",
    "    try:\n",
    "        salary = driver.find_elements_by_xpath('//span[@class=\"Salary\"]')\n",
    "        for p in range(len(salary)):\n",
    "            ls['salary'] = salary[p].text\n",
    "    except:\n",
    "        ls['salary'] = None\n",
    "\n",
    "    return ls\n"
   ]
  },
  {
   "cell_type": "code",
   "execution_count": 56,
   "metadata": {},
   "outputs": [
    {
     "name": "stderr",
     "output_type": "stream",
     "text": [
      "\n",
      "\n",
      "====== WebDriver manager ======\n",
      "Could not get version for google-chrome with the command:  powershell \"$ErrorActionPreference='silentlycontinue' ; (Get-Item -Path \"$env:PROGRAMFILES\\Google\\Chrome\\Application\\chrome.exe\").VersionInfo.FileVersion ; if (-not $? -or $? -match $error) { (Get-Item -Path \"$env:PROGRAMFILES(x86)\\Google\\Chrome\\Application\\chrome.exe\").VersionInfo.FileVersion } if (-not $? -or $? -match $error) { (Get-Item -Path \"$env:LOCALAPPDATA\\Google\\Chrome\\Application\\chrome.exe\").VersionInfo.FileVersion } if (-not $? -or $? -match $error) { reg query \"HKCU\\SOFTWARE\\Google\\Chrome\\BLBeacon\" /v version } if (-not $? -or $? -match $error) { reg query \"HKLM\\SOFTWARE\\Wow6432Node\\Microsoft\\Windows\\CurrentVersion\\Uninstall\\Google Chrome\" /v version }\"\n",
      "Current google-chrome version is UNKNOWN\n",
      "Get LATEST chromedriver version for UNKNOWN google-chrome\n",
      "Trying to download new driver from https://chromedriver.storage.googleapis.com/98.0.4758.102/chromedriver_win32.zip\n",
      "Driver has been saved in cache [C:\\Users\\joshu\\.wdm\\drivers\\chromedriver\\win32\\98.0.4758.102]\n",
      "<ipython-input-51-4422fff40775>:2: DeprecationWarning: executable_path has been deprecated, please pass in a Service object\n",
      "  driver = webdriver.Chrome(ChromeDriverManager().install())\n",
      "<ipython-input-51-4422fff40775>:8: DeprecationWarning: find_elements_by_xpath is deprecated. Please use find_elements(by=By.XPATH, value=xpath) instead\n",
      "  title = driver.find_elements_by_xpath('//div[@class=\"ViewJobHeader-title\"]')\n",
      "<ipython-input-51-4422fff40775>:9: DeprecationWarning: find_elements_by_xpath is deprecated. Please use find_elements(by=By.XPATH, value=xpath) instead\n",
      "  company = driver.find_elements_by_xpath('//div[@class=\"ViewJobHeader-company\"]')\n",
      "<ipython-input-51-4422fff40775>:10: DeprecationWarning: find_elements_by_xpath is deprecated. Please use find_elements(by=By.XPATH, value=xpath) instead\n",
      "  jobdescriptions = driver.find_elements_by_xpath('//div[@class=\"viewjob-description ViewJob-description\"]')\n",
      "<ipython-input-51-4422fff40775>:19: DeprecationWarning: find_elements_by_xpath is deprecated. Please use find_elements(by=By.XPATH, value=xpath) instead\n",
      "  salary = driver.find_elements_by_xpath('//span[@class=\"Salary\"]')\n",
      "\n",
      "\n",
      "====== WebDriver manager ======\n",
      "Could not get version for google-chrome with the command:  powershell \"$ErrorActionPreference='silentlycontinue' ; (Get-Item -Path \"$env:PROGRAMFILES\\Google\\Chrome\\Application\\chrome.exe\").VersionInfo.FileVersion ; if (-not $? -or $? -match $error) { (Get-Item -Path \"$env:PROGRAMFILES(x86)\\Google\\Chrome\\Application\\chrome.exe\").VersionInfo.FileVersion } if (-not $? -or $? -match $error) { (Get-Item -Path \"$env:LOCALAPPDATA\\Google\\Chrome\\Application\\chrome.exe\").VersionInfo.FileVersion } if (-not $? -or $? -match $error) { reg query \"HKCU\\SOFTWARE\\Google\\Chrome\\BLBeacon\" /v version } if (-not $? -or $? -match $error) { reg query \"HKLM\\SOFTWARE\\Wow6432Node\\Microsoft\\Windows\\CurrentVersion\\Uninstall\\Google Chrome\" /v version }\"\n",
      "Current google-chrome version is UNKNOWN\n",
      "Get LATEST chromedriver version for UNKNOWN google-chrome\n",
      "Trying to download new driver from https://chromedriver.storage.googleapis.com/98.0.4758.102/chromedriver_win32.zip\n",
      "Driver has been saved in cache [C:\\Users\\joshu\\.wdm\\drivers\\chromedriver\\win32\\98.0.4758.102]\n",
      "\n",
      "\n",
      "====== WebDriver manager ======\n",
      "Could not get version for google-chrome with the command:  powershell \"$ErrorActionPreference='silentlycontinue' ; (Get-Item -Path \"$env:PROGRAMFILES\\Google\\Chrome\\Application\\chrome.exe\").VersionInfo.FileVersion ; if (-not $? -or $? -match $error) { (Get-Item -Path \"$env:PROGRAMFILES(x86)\\Google\\Chrome\\Application\\chrome.exe\").VersionInfo.FileVersion } if (-not $? -or $? -match $error) { (Get-Item -Path \"$env:LOCALAPPDATA\\Google\\Chrome\\Application\\chrome.exe\").VersionInfo.FileVersion } if (-not $? -or $? -match $error) { reg query \"HKCU\\SOFTWARE\\Google\\Chrome\\BLBeacon\" /v version } if (-not $? -or $? -match $error) { reg query \"HKLM\\SOFTWARE\\Wow6432Node\\Microsoft\\Windows\\CurrentVersion\\Uninstall\\Google Chrome\" /v version }\"\n",
      "Current google-chrome version is UNKNOWN\n",
      "Get LATEST chromedriver version for UNKNOWN google-chrome\n",
      "Trying to download new driver from https://chromedriver.storage.googleapis.com/98.0.4758.102/chromedriver_win32.zip\n",
      "Driver has been saved in cache [C:\\Users\\joshu\\.wdm\\drivers\\chromedriver\\win32\\98.0.4758.102]\n",
      "\n",
      "\n",
      "====== WebDriver manager ======\n",
      "Could not get version for google-chrome with the command:  powershell \"$ErrorActionPreference='silentlycontinue' ; (Get-Item -Path \"$env:PROGRAMFILES\\Google\\Chrome\\Application\\chrome.exe\").VersionInfo.FileVersion ; if (-not $? -or $? -match $error) { (Get-Item -Path \"$env:PROGRAMFILES(x86)\\Google\\Chrome\\Application\\chrome.exe\").VersionInfo.FileVersion } if (-not $? -or $? -match $error) { (Get-Item -Path \"$env:LOCALAPPDATA\\Google\\Chrome\\Application\\chrome.exe\").VersionInfo.FileVersion } if (-not $? -or $? -match $error) { reg query \"HKCU\\SOFTWARE\\Google\\Chrome\\BLBeacon\" /v version } if (-not $? -or $? -match $error) { reg query \"HKLM\\SOFTWARE\\Wow6432Node\\Microsoft\\Windows\\CurrentVersion\\Uninstall\\Google Chrome\" /v version }\"\n",
      "Current google-chrome version is UNKNOWN\n",
      "Get LATEST chromedriver version for UNKNOWN google-chrome\n",
      "Trying to download new driver from https://chromedriver.storage.googleapis.com/98.0.4758.102/chromedriver_win32.zip\n",
      "Driver has been saved in cache [C:\\Users\\joshu\\.wdm\\drivers\\chromedriver\\win32\\98.0.4758.102]\n"
     ]
    }
   ],
   "source": [
    "joblist = []\n",
    "\n",
    "counter = 0\n",
    "for val in links:\n",
    "    dict = {'title': None, 'company': None, 'salary': None, 'description': None}\n",
    "    arr = runDriverLink('Data', 'Scientist', val)\n",
    "    ls = runDriver(arr, dict)\n",
    "    joblist.append(ls)\n",
    "    if(counter == 3):\n",
    "        break\n",
    "    counter += 1"
   ]
  },
  {
   "cell_type": "code",
   "execution_count": 67,
   "metadata": {},
   "outputs": [],
   "source": [
    "dataTitle = []\n",
    "dataCompany = []\n",
    "dataSalary = []\n",
    "dataDescription = []\n",
    "for val in joblist:\n",
    "    dataTitle.append(val['title'])\n",
    "    dataCompany.append(val['company'])\n",
    "    dataSalary.append(val['salary'])\n",
    "    dataDescription.append(val['description'])\n",
    "\n",
    "df = pd.DataFrame({'title': dataTitle, 'company': dataCompany, 'salary': dataSalary, 'description': dataDescription})\n",
    "df = df.iloc[1: , :]"
   ]
  },
  {
   "cell_type": "code",
   "execution_count": 69,
   "metadata": {},
   "outputs": [
    {
     "data": {
      "text/html": [
       "<div>\n",
       "<style scoped>\n",
       "    .dataframe tbody tr th:only-of-type {\n",
       "        vertical-align: middle;\n",
       "    }\n",
       "\n",
       "    .dataframe tbody tr th {\n",
       "        vertical-align: top;\n",
       "    }\n",
       "\n",
       "    .dataframe thead th {\n",
       "        text-align: right;\n",
       "    }\n",
       "</style>\n",
       "<table border=\"1\" class=\"dataframe\">\n",
       "  <thead>\n",
       "    <tr style=\"text-align: right;\">\n",
       "      <th></th>\n",
       "      <th>title</th>\n",
       "      <th>company</th>\n",
       "      <th>salary</th>\n",
       "      <th>description</th>\n",
       "    </tr>\n",
       "  </thead>\n",
       "  <tbody>\n",
       "    <tr>\n",
       "      <th>1</th>\n",
       "      <td>Machine Learning Engineer</td>\n",
       "      <td>Manulife</td>\n",
       "      <td>Estimated: $56,000 - $71,000 a year</td>\n",
       "      <td>Are you looking for a supportive, collaborativ...</td>\n",
       "    </tr>\n",
       "    <tr>\n",
       "      <th>2</th>\n",
       "      <td>Jr. Data Scientist</td>\n",
       "      <td>GALE Partners</td>\n",
       "      <td>Estimated: $62,000 - $82,000 a year</td>\n",
       "      <td>GALE is a creative media consultancy that brin...</td>\n",
       "    </tr>\n",
       "    <tr>\n",
       "      <th>3</th>\n",
       "      <td>Big Data Scientist | Co-op</td>\n",
       "      <td>Economical Insurance</td>\n",
       "      <td>Estimated: $56,000 - $71,000 a year</td>\n",
       "      <td>Job ID : 5340\\nCategory : Personal Insurance\\n...</td>\n",
       "    </tr>\n",
       "  </tbody>\n",
       "</table>\n",
       "</div>"
      ],
      "text/plain": [
       "                        title               company  \\\n",
       "1   Machine Learning Engineer              Manulife   \n",
       "2          Jr. Data Scientist         GALE Partners   \n",
       "3  Big Data Scientist | Co-op  Economical Insurance   \n",
       "\n",
       "                                salary  \\\n",
       "1  Estimated: $56,000 - $71,000 a year   \n",
       "2  Estimated: $62,000 - $82,000 a year   \n",
       "3  Estimated: $56,000 - $71,000 a year   \n",
       "\n",
       "                                         description  \n",
       "1  Are you looking for a supportive, collaborativ...  \n",
       "2  GALE is a creative media consultancy that brin...  \n",
       "3  Job ID : 5340\\nCategory : Personal Insurance\\n...  "
      ]
     },
     "execution_count": 69,
     "metadata": {},
     "output_type": "execute_result"
    }
   ],
   "source": [
    "df.head()"
   ]
  },
  {
   "cell_type": "code",
   "execution_count": null,
   "metadata": {},
   "outputs": [],
   "source": []
  }
 ],
 "metadata": {
  "interpreter": {
   "hash": "be2e7877c44afa397199e9cfbcd571547135c18cd55cff007376fb6d8ac3a739"
  },
  "kernelspec": {
   "display_name": "Python 3 (ipykernel)",
   "language": "python",
   "name": "python3"
  },
  "language_info": {
   "codemirror_mode": {
    "name": "ipython",
    "version": 3
   },
   "file_extension": ".py",
   "mimetype": "text/x-python",
   "name": "python",
   "nbconvert_exporter": "python",
   "pygments_lexer": "ipython3",
   "version": "3.9.5"
  }
 },
 "nbformat": 4,
 "nbformat_minor": 2
}
