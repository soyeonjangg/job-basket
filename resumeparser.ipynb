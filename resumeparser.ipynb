{
 "cells": [
  {
   "cell_type": "code",
   "execution_count": 24,
   "metadata": {},
   "outputs": [],
   "source": [
    "from resume_parser import resumeparse\n",
    "data = resumeparse.read_file('example.txt')"
   ]
  },
  {
   "cell_type": "code",
   "execution_count": 27,
   "metadata": {},
   "outputs": [],
   "source": [
    "data = resumeparse.read_file('Resume.pdf')"
   ]
  },
  {
   "cell_type": "code",
   "execution_count": null,
   "metadata": {},
   "outputs": [],
   "source": []
  },
  {
   "cell_type": "code",
   "execution_count": 28,
   "metadata": {},
   "outputs": [
    {
     "data": {
      "text/plain": [
       "[': Python · SQL · Spark · Bash · C/C++ · Javascript · HTML/CSS',\n",
       " 'Libraries: Pandas · Scikitlearn · NumPy · Matplotlib · PyTorch · Keras · OpenCV · AutoML',\n",
       " 'Tools / Techniques: Azure DevOps · PowerBI · Databricks · Jupyter · Excel · Machine Learning · Deep Learning']"
      ]
     },
     "execution_count": 28,
     "metadata": {},
     "output_type": "execute_result"
    }
   ],
   "source": [
    "data['skills']"
   ]
  },
  {
   "cell_type": "code",
   "execution_count": 25,
   "metadata": {},
   "outputs": [
    {
     "data": {
      "text/plain": [
       "{'email': None,\n",
       " 'phone': '',\n",
       " 'name': '',\n",
       " 'total_exp': 0,\n",
       " 'university': [],\n",
       " 'designition': ['data analyst', 'director', 'director of finance'],\n",
       " 'degree': [],\n",
       " 'skills': ['kobo',\n",
       "  'lunch',\n",
       "  'start-up environment',\n",
       "  'balance',\n",
       "  'python',\n",
       "  'award',\n",
       "  'analytical skills',\n",
       "  'computer science',\n",
       "  'training',\n",
       "  'working environment',\n",
       "  'trivia',\n",
       "  'computer engineering',\n",
       "  'disabilities',\n",
       "  'partnerships',\n",
       "  'platforms',\n",
       "  'data visualization',\n",
       "  'reporting',\n",
       "  'processing',\n",
       "  'mobile apps',\n",
       "  'process automation',\n",
       "  'pandas',\n",
       "  'advanced',\n",
       "  'data maintenance',\n",
       "  'digital',\n",
       "  'data engineering',\n",
       "  'automation',\n",
       "  'ecommerce',\n",
       "  'statistics',\n",
       "  'options',\n",
       "  'visualization',\n",
       "  'languages',\n",
       "  'mathematics',\n",
       "  'health',\n",
       "  'bonuses',\n",
       "  'mobile',\n",
       "  'paternity',\n",
       "  'one',\n",
       "  'ebooks',\n",
       "  'accessibility',\n",
       "  'excel',\n",
       "  'stored procedures',\n",
       "  'apps',\n",
       "  'finance',\n",
       "  'maintenance',\n",
       "  'sql',\n",
       "  'flex'],\n",
       " 'Companies worked at': []}"
      ]
     },
     "execution_count": 25,
     "metadata": {},
     "output_type": "execute_result"
    }
   ],
   "source": [
    "data"
   ]
  },
  {
   "cell_type": "code",
   "execution_count": 26,
   "metadata": {},
   "outputs": [
    {
     "data": {
      "text/plain": [
       "['kobo',\n",
       " 'lunch',\n",
       " 'start-up environment',\n",
       " 'balance',\n",
       " 'python',\n",
       " 'award',\n",
       " 'analytical skills',\n",
       " 'computer science',\n",
       " 'training',\n",
       " 'working environment',\n",
       " 'trivia',\n",
       " 'computer engineering',\n",
       " 'disabilities',\n",
       " 'partnerships',\n",
       " 'platforms',\n",
       " 'data visualization',\n",
       " 'reporting',\n",
       " 'processing',\n",
       " 'mobile apps',\n",
       " 'process automation',\n",
       " 'pandas',\n",
       " 'advanced',\n",
       " 'data maintenance',\n",
       " 'digital',\n",
       " 'data engineering',\n",
       " 'automation',\n",
       " 'ecommerce',\n",
       " 'statistics',\n",
       " 'options',\n",
       " 'visualization',\n",
       " 'languages',\n",
       " 'mathematics',\n",
       " 'health',\n",
       " 'bonuses',\n",
       " 'mobile',\n",
       " 'paternity',\n",
       " 'one',\n",
       " 'ebooks',\n",
       " 'accessibility',\n",
       " 'excel',\n",
       " 'stored procedures',\n",
       " 'apps',\n",
       " 'finance',\n",
       " 'maintenance',\n",
       " 'sql',\n",
       " 'flex']"
      ]
     },
     "execution_count": 26,
     "metadata": {},
     "output_type": "execute_result"
    }
   ],
   "source": [
    "data['skills']"
   ]
  },
  {
   "cell_type": "code",
   "execution_count": null,
   "metadata": {},
   "outputs": [],
   "source": []
  }
 ],
 "metadata": {
  "interpreter": {
   "hash": "47a59b68f4c14334b938a311c4d9284db28cf61f8a4f605adee4da16031a8e7a"
  },
  "kernelspec": {
   "display_name": "Python 3.9.1 64-bit",
   "language": "python",
   "name": "python3"
  },
  "language_info": {
   "codemirror_mode": {
    "name": "ipython",
    "version": 3
   },
   "file_extension": ".py",
   "mimetype": "text/x-python",
   "name": "python",
   "nbconvert_exporter": "python",
   "pygments_lexer": "ipython3",
   "version": "3.9.1"
  },
  "orig_nbformat": 4
 },
 "nbformat": 4,
 "nbformat_minor": 2
}
