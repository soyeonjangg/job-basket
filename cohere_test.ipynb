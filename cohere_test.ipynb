{
 "cells": [
  {
   "cell_type": "code",
   "execution_count": 4,
   "id": "ca178896",
   "metadata": {},
   "outputs": [
    {
     "name": "stdout",
     "output_type": "stream",
     "text": [
      "Requirement already satisfied: cohere in c:\\users\\yuna\\appdata\\local\\programs\\python\\python39\\lib\\site-packages (1.2.0)\n",
      "Requirement already satisfied: requests in c:\\users\\yuna\\appdata\\local\\programs\\python\\python39\\lib\\site-packages (from cohere) (2.26.0)\n",
      "Requirement already satisfied: certifi>=2017.4.17 in c:\\users\\yuna\\appdata\\local\\programs\\python\\python39\\lib\\site-packages (from requests->cohere) (2021.5.30)\n",
      "Requirement already satisfied: charset-normalizer~=2.0.0 in c:\\users\\yuna\\appdata\\local\\programs\\python\\python39\\lib\\site-packages (from requests->cohere) (2.0.4)\n",
      "Requirement already satisfied: urllib3<1.27,>=1.21.1 in c:\\users\\yuna\\appdata\\local\\programs\\python\\python39\\lib\\site-packages (from requests->cohere) (1.26.6)\n",
      "Requirement already satisfied: idna<4,>=2.5 in c:\\users\\yuna\\appdata\\local\\programs\\python\\python39\\lib\\site-packages (from requests->cohere) (3.2)\n"
     ]
    }
   ],
   "source": [
    "!pip install cohere\n",
    "import re"
   ]
  },
  {
   "cell_type": "code",
   "execution_count": 6,
   "id": "03b2032b",
   "metadata": {
    "scrolled": true
   },
   "outputs": [
    {
     "name": "stdout",
     "output_type": "stream",
     "text": [
      "Prediction: \n",
      "1. Contract type #\n"
     ]
    }
   ],
   "source": [
    "import cohere\n",
    "co = cohere.Client('mv34VXbedk8mRqW4rggcX7pHxsTPXLS0qbRsS6B9')\n",
    "prediction = co.generate(\n",
    "    model='large-20220217',\n",
    "    prompt=\"\"\"Extract the following fields out of text: \\r\\n1. Contract type ##\\r\\n2. Work start date ##\\r\\n3. Work end date ##\\r\\n4. Contractor's name ##\\r\\n5. Contractor's address ## \\r\\n6. Rate amount ##\\r\\n7. Summary of work ##\\r\\n-\\r\\nThis Construction Contract Agreement (this \\u201CAgreement\\u201D) is made as of the 09 day of February, 2022 by and between Katherine Helmond, an individual located at 12345 El Monte Rd, Los Altos Hills, CA 94022 (\\u201COwner\\u201D) and Beverley Callard, an individual located at 43321 Mary Rita Terrace, Ashburn, VA 20147 with contractor's license number 76545432 (\\\"Contractor\\\"). Owner and Contractor may each be referred to in this Agreement individually as a \\u201CParty\\u201D and collectively as the \\u201CParties.\\u201D \\r\\nThe Parties agree as follows: \\r\\n1. Description of Work. Contractor shall perform the following described work at 6543 S Tamiami Trail, Sarasota, FL 34231 (the \\\"Property\\\"), in accordance with Owner\\u2019s contract plans and specifications, this Agreement and any Change Order, as defined herein, (collectively, the \\\"Contract Documents\\\"): Retile master bedroom with linoleum, caulk bathtub (the \\\"Work\\\"). Industry terminology used in any Contract Documents which are not defined shall be interpreted as having the same meaning as that recognized in the construction industry in the area where the Property is located. \\r\\n2. Contract Price and Payments. Owner agrees to pay Contractor the total amount of $30,000.00 (the \\u201CContract Price\\u201D). Payment of this amount is subject to additions or deductions in accordance with any mutually agreed to changes and\\/or modifications in the Work. Payment will be made by personal check, according to the following schedule: \\r\\n3. Certificate of Completion. Work under this Agreement shall begin on February 09, 2022, and shall be completed by March 16, 2022. Upon completion of the Work, Contractor shall notify Owner that the Work is ready for final inspection and acceptance.\\r\\n-\\r\\n1. Contract type ##Construction Contract##\\r\\n2. Work start date ##February 09, 2022##\\r\\n3. Work end date ##March 16, 2022##\\r\\n4. Contractor's name ##Beverley Callard##\\r\\n5. Contractor's address: ##43321 Mary Rita Terrace, Ashburn, VA 20147##\\r\\n6. Rate amount: ##$30,000.00##\\r\\n7. Summary of work: ##Retile master bedroom with linoleum, caulk bathtub##\\r\\n-\\r\\nThis Freelance Contract (this \\\"Agreement\\\") is made as of this 10 day of February, 2022, (the \\u201CEffective Date\\u201D) by and between Checkcentral LLC located at 45345 Five Mile Rd, Plymouth, MI 48170 (\\u201CClient\\u201D) and Brian Taylor located at 2432 Fair Rd, Abilene, KS 67410 (\\u201CIndependent Contractor\\u201D). Client and Independent Contractor may each be referred to in this Agreement as a \\u201CParty\\u201D and collectively as the \\u201CParties.\\u201D \\r\\n1. Services. Independent Contractor shall provide the following services to Client (the \\u201CServices\\u201D): Develop new website and marketing strategy for company. In addition, Independent Contractor shall perform such other duties and tasks, or changes to the Services, as may be agreed upon by the Parties. \\r\\n2. Compensation. Inconsideration for Independent Contractor\\u2019s performance of the Services, Client shall pay Independent Contractor $55.00 per hour. Independent Contractor will be paid within seven (7) days after receiving Independent Contractor's invoice. Independent Contractor will submit invoices for payment on the 25th of the month. \\r\\n3. Expenses. All costs and expenses incurred by Independent Contractor in connection with the performance of the Services shall be the sole responsibility of and paid by Independent Contractor. \\r\\n4. Term and Termination. Independent Contractor\\u2019s engagement with Client under this Agreement shall commence on February 20, 2022. The Parties agree and acknowledge that this Agreement and Independent Contractor's engagement with Client under this Agreement shall terminate on June 13, 2022. At the time of termination, Independent Contractor agrees to return all Client property used in performance of the Services, including but not limited to computers, cell phones, keys, reports and other equipment and documents. Independent Contractor shall reimburse Client for any Client property lost or damaged in an amount equal to the market price of such property. \\r\\n-\"\"\",\n",
    "    max_tokens=200,\n",
    "    temperature=0.5,\n",
    "    k=0, \n",
    "    p=0.75, \n",
    "    stop_sequences= ['#'],\n",
    "    return_likelihoods='NONE'\n",
    ")\n",
    "print('Prediction: {}'.format(prediction.generations[0].text))"
   ]
  },
  {
   "cell_type": "code",
   "execution_count": 3,
   "id": "d2a39578",
   "metadata": {},
   "outputs": [
    {
     "name": "stdout",
     "output_type": "stream",
     "text": [
      "{}\n"
     ]
    }
   ],
   "source": [
    "# Turn this output into structured data that can be collected at scale\n",
    "output = prediction.generations[0].text\n",
    "question = re.findall(' (.*) \\##', str(output))\n",
    "answer = re.findall('\\#\\#(.*)\\#\\#', str(output))\n",
    "dictA = dict(zip(question,answer))\n",
    "print(dictA)"
   ]
  }
 ],
 "metadata": {
  "kernelspec": {
   "display_name": "Python 3 (ipykernel)",
   "language": "python",
   "name": "python3"
  },
  "language_info": {
   "codemirror_mode": {
    "name": "ipython",
    "version": 3
   },
   "file_extension": ".py",
   "mimetype": "text/x-python",
   "name": "python",
   "nbconvert_exporter": "python",
   "pygments_lexer": "ipython3",
   "version": "3.9.5"
  }
 },
 "nbformat": 4,
 "nbformat_minor": 5
}
