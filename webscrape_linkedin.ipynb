{
 "cells": [
  {
   "cell_type": "code",
   "execution_count": 10,
   "id": "c4309127",
   "metadata": {},
   "outputs": [],
   "source": [
    "from selenium import webdriver\n",
    "import pandas as pd\n",
    "from webdriver_manager.chrome import ChromeDriverManager\n",
    "import os\n",
    "from selenium.webdriver.chrome.service import Service\n",
    "from selenium.webdriver.common.by import By\n",
    "import time"
   ]
  },
  {
   "cell_type": "code",
   "execution_count": 11,
   "id": "e2e5a3a6",
   "metadata": {},
   "outputs": [
    {
     "name": "stderr",
     "output_type": "stream",
     "text": [
      "\n",
      "\n",
      "====== WebDriver manager ======\n",
      "Current google-chrome version is 99.0.4844\n",
      "Get LATEST driver version for 99.0.4844\n",
      "Driver [C:\\Users\\joshu\\.wdm\\drivers\\chromedriver\\win32\\99.0.4844.51\\chromedriver.exe] found in cache\n"
     ]
    },
    {
     "name": "stdout",
     "output_type": "stream",
     "text": [
      "262\n"
     ]
    },
    {
     "data": {
      "text/plain": [
       "25"
      ]
     },
     "execution_count": 11,
     "metadata": {},
     "output_type": "execute_result"
    }
   ],
   "source": [
    "# need to change so that it takes user input (keyword extraction from user resume)\n",
    "def search_link(job, city, prov):\n",
    "    url=f'https://www.linkedin.com/jobs/{job}-jobs-{city}-{prov}?trk=homepage-jobseeker_suggested-search&position=1&pageNum=0'\n",
    "    return url\n",
    "\n",
    "wd = webdriver.Chrome(ChromeDriverManager().install()) # service?\n",
    "wd.get(search_link('data-scientist', 'waterloo', 'ON'))\n",
    "# instead of doing a link. find element to click and insert search items\n",
    "num_jobs = wd.find_element(by=By.CSS_SELECTOR, value='h1>span').get_attribute('innerText')\n",
    "if num_jobs[-1]=='+':\n",
    "    num_jobs=int(num_jobs.replace(',', '')[:-1])\n",
    "else:\n",
    "    num_jobs=int(num_jobs)\n",
    "print(num_jobs)\n",
    "\n",
    "i = 2\n",
    "list_jobs=[]\n",
    "while i <= (num_jobs/25)+1: \n",
    "    job_lists=wd.find_element(by=By.CLASS_NAME, value='jobs-search__results-list')\n",
    "    jobs=job_lists.find_elements(by=By.TAG_NAME, value='li') # returns a list\n",
    "    wd.execute_script(\"window.scrollTo(0, document.documentElement.scrollHeight);\")\n",
    "    i = i + 1\n",
    "    try:\n",
    "        xpath='/html/body/main/div/section/button'\n",
    "        wd.find_element(by=By.XPATH, value=xpath).click()\n",
    "    except:\n",
    "        pass\n",
    "    \n",
    "len(jobs)\n"
   ]
  },
  {
   "cell_type": "code",
   "execution_count": 12,
   "id": "49e6c679",
   "metadata": {},
   "outputs": [],
   "source": [
    "job_id= []\n",
    "job_title = []\n",
    "company_name = []\n",
    "location = []\n",
    "date = []\n",
    "job_link = []\n",
    "\n",
    "for job in jobs:\n",
    "    job_title0 = job.find_element(by=By.CSS_SELECTOR, value='h3').get_attribute('innerText')\n",
    "    job_title.append(job_title0)\n",
    "    \n",
    "    company_name0 = job.find_element(by=By.CSS_SELECTOR, value='h4').get_attribute('innerText')\n",
    "    company_name.append(company_name0)\n",
    "\n",
    "    location0 = job.find_element(by=By.CSS_SELECTOR, value='[class=\\'job-search-card__location\\']').get_attribute('innerText')\n",
    "    location.append(location0)\n",
    "\n",
    "    date0=job.find_element(by=By.CSS_SELECTOR, value='div>div>time').get_attribute('datetime')\n",
    "    date.append(date0)\n",
    "    \n",
    "    job_link0=job.find_element(by=By.CSS_SELECTOR, value='a').get_attribute('href')\n",
    "    job_link.append(job_link0)\n"
   ]
  },
  {
   "cell_type": "code",
   "execution_count": 13,
   "id": "bdf8aa7f",
   "metadata": {},
   "outputs": [
    {
     "ename": "StaleElementReferenceException",
     "evalue": "Message: stale element reference: element is not attached to the page document\n  (Session info: chrome=99.0.4844.51)\n",
     "output_type": "error",
     "traceback": [
      "\u001b[1;31m---------------------------------------------------------------------------\u001b[0m",
      "\u001b[1;31mStaleElementReferenceException\u001b[0m            Traceback (most recent call last)",
      "\u001b[1;32m\\yuna17c\\job-basket\\webscrape_linkedin.ipynb Cell 4'\u001b[0m in \u001b[0;36m<cell line: 7>\u001b[1;34m()\u001b[0m\n\u001b[0;32m     <a href='vscode-notebook-cell://github/yuna17c/job-basket/webscrape_linkedin.ipynb#ch0000004vscode-vfs?line=11'>12</a>\u001b[0m job_click\u001b[39m=\u001b[39mjob\u001b[39m.\u001b[39mfind_element(by\u001b[39m=\u001b[39mBy\u001b[39m.\u001b[39mXPATH, value\u001b[39m=\u001b[39mjob_click_path)\u001b[39m.\u001b[39mclick()\n\u001b[0;32m     <a href='vscode-notebook-cell://github/yuna17c/job-basket/webscrape_linkedin.ipynb#ch0000004vscode-vfs?line=13'>14</a>\u001b[0m jd_path \u001b[39m=\u001b[39m \u001b[39m'\u001b[39m\u001b[39m/html/body/div[1]/div/section/div[2]/div[1]/section[1]/div/div/section\u001b[39m\u001b[39m'\u001b[39m\n\u001b[1;32m---> <a href='vscode-notebook-cell://github/yuna17c/job-basket/webscrape_linkedin.ipynb#ch0000004vscode-vfs?line=14'>15</a>\u001b[0m jd0\u001b[39m=\u001b[39mjob\u001b[39m.\u001b[39mfind_element(by\u001b[39m=\u001b[39mBy\u001b[39m.\u001b[39mXPATH, value\u001b[39m=\u001b[39mjd_path)\u001b[39m.\u001b[39mget_attribute(\u001b[39m'\u001b[39m\u001b[39minnerText\u001b[39m\u001b[39m'\u001b[39m)\n\u001b[0;32m     <a href='vscode-notebook-cell://github/yuna17c/job-basket/webscrape_linkedin.ipynb#ch0000004vscode-vfs?line=15'>16</a>\u001b[0m jd\u001b[39m.\u001b[39mappend(jd0)\n\u001b[0;32m     <a href='vscode-notebook-cell://github/yuna17c/job-basket/webscrape_linkedin.ipynb#ch0000004vscode-vfs?line=17'>18</a>\u001b[0m time\u001b[39m.\u001b[39msleep(\u001b[39m10\u001b[39m)\n",
      "File \u001b[1;32m~\\AppData\\Local\\Programs\\Python\\Python39\\lib\\site-packages\\selenium\\webdriver\\remote\\webelement.py:658\u001b[0m, in \u001b[0;36mfind_element\u001b[1;34m(self, by, value)\u001b[0m\n\u001b[0;32m    <a href='file:///c%3A/Users/joshu/AppData/Local/Programs/Python/Python39/lib/site-packages/selenium/webdriver/remote/webelement.py?line=643'>644</a>\u001b[0m \u001b[39mdef\u001b[39;00m \u001b[39mscreenshot\u001b[39m(\u001b[39mself\u001b[39m, filename) \u001b[39m-\u001b[39m\u001b[39m>\u001b[39m \u001b[39mbool\u001b[39m:\n\u001b[0;32m    <a href='file:///c%3A/Users/joshu/AppData/Local/Programs/Python/Python39/lib/site-packages/selenium/webdriver/remote/webelement.py?line=644'>645</a>\u001b[0m     \u001b[39m\"\"\"\u001b[39;00m\n\u001b[0;32m    <a href='file:///c%3A/Users/joshu/AppData/Local/Programs/Python/Python39/lib/site-packages/selenium/webdriver/remote/webelement.py?line=645'>646</a>\u001b[0m \u001b[39m    Saves a screenshot of the current element to a PNG image file. Returns\u001b[39;00m\n\u001b[0;32m    <a href='file:///c%3A/Users/joshu/AppData/Local/Programs/Python/Python39/lib/site-packages/selenium/webdriver/remote/webelement.py?line=646'>647</a>\u001b[0m \u001b[39m       False if there is any IOError, else returns True. Use full paths in\u001b[39;00m\n\u001b[0;32m    <a href='file:///c%3A/Users/joshu/AppData/Local/Programs/Python/Python39/lib/site-packages/selenium/webdriver/remote/webelement.py?line=647'>648</a>\u001b[0m \u001b[39m       your filename.\u001b[39;00m\n\u001b[0;32m    <a href='file:///c%3A/Users/joshu/AppData/Local/Programs/Python/Python39/lib/site-packages/selenium/webdriver/remote/webelement.py?line=648'>649</a>\u001b[0m \n\u001b[0;32m    <a href='file:///c%3A/Users/joshu/AppData/Local/Programs/Python/Python39/lib/site-packages/selenium/webdriver/remote/webelement.py?line=649'>650</a>\u001b[0m \u001b[39m    :Args:\u001b[39;00m\n\u001b[0;32m    <a href='file:///c%3A/Users/joshu/AppData/Local/Programs/Python/Python39/lib/site-packages/selenium/webdriver/remote/webelement.py?line=650'>651</a>\u001b[0m \u001b[39m     - filename: The full path you wish to save your screenshot to. This\u001b[39;00m\n\u001b[0;32m    <a href='file:///c%3A/Users/joshu/AppData/Local/Programs/Python/Python39/lib/site-packages/selenium/webdriver/remote/webelement.py?line=651'>652</a>\u001b[0m \u001b[39m       should end with a `.png` extension.\u001b[39;00m\n\u001b[0;32m    <a href='file:///c%3A/Users/joshu/AppData/Local/Programs/Python/Python39/lib/site-packages/selenium/webdriver/remote/webelement.py?line=652'>653</a>\u001b[0m \n\u001b[0;32m    <a href='file:///c%3A/Users/joshu/AppData/Local/Programs/Python/Python39/lib/site-packages/selenium/webdriver/remote/webelement.py?line=653'>654</a>\u001b[0m \u001b[39m    :Usage:\u001b[39;00m\n\u001b[0;32m    <a href='file:///c%3A/Users/joshu/AppData/Local/Programs/Python/Python39/lib/site-packages/selenium/webdriver/remote/webelement.py?line=654'>655</a>\u001b[0m \u001b[39m        ::\u001b[39;00m\n\u001b[0;32m    <a href='file:///c%3A/Users/joshu/AppData/Local/Programs/Python/Python39/lib/site-packages/selenium/webdriver/remote/webelement.py?line=655'>656</a>\u001b[0m \n\u001b[0;32m    <a href='file:///c%3A/Users/joshu/AppData/Local/Programs/Python/Python39/lib/site-packages/selenium/webdriver/remote/webelement.py?line=656'>657</a>\u001b[0m \u001b[39m            element.screenshot('/Screenshots/foo.png')\u001b[39;00m\n\u001b[1;32m--> <a href='file:///c%3A/Users/joshu/AppData/Local/Programs/Python/Python39/lib/site-packages/selenium/webdriver/remote/webelement.py?line=657'>658</a>\u001b[0m \u001b[39m    \"\"\"\u001b[39;00m\n\u001b[0;32m    <a href='file:///c%3A/Users/joshu/AppData/Local/Programs/Python/Python39/lib/site-packages/selenium/webdriver/remote/webelement.py?line=658'>659</a>\u001b[0m     \u001b[39mif\u001b[39;00m \u001b[39mnot\u001b[39;00m filename\u001b[39m.\u001b[39mlower()\u001b[39m.\u001b[39mendswith(\u001b[39m'\u001b[39m\u001b[39m.png\u001b[39m\u001b[39m'\u001b[39m):\n\u001b[0;32m    <a href='file:///c%3A/Users/joshu/AppData/Local/Programs/Python/Python39/lib/site-packages/selenium/webdriver/remote/webelement.py?line=659'>660</a>\u001b[0m         warnings\u001b[39m.\u001b[39mwarn(\u001b[39m\"\u001b[39m\u001b[39mname used for saved screenshot does not match file \u001b[39m\u001b[39m\"\u001b[39m\n\u001b[0;32m    <a href='file:///c%3A/Users/joshu/AppData/Local/Programs/Python/Python39/lib/site-packages/selenium/webdriver/remote/webelement.py?line=660'>661</a>\u001b[0m                       \u001b[39m\"\u001b[39m\u001b[39mtype. It should end with a `.png` extension\u001b[39m\u001b[39m\"\u001b[39m, \u001b[39mUserWarning\u001b[39;00m)\n",
      "File \u001b[1;32m~\\AppData\\Local\\Programs\\Python\\Python39\\lib\\site-packages\\selenium\\webdriver\\remote\\webelement.py:633\u001b[0m, in \u001b[0;36m_execute\u001b[1;34m(self, command, params)\u001b[0m\n\u001b[0;32m    <a href='file:///c%3A/Users/joshu/AppData/Local/Programs/Python/Python39/lib/site-packages/selenium/webdriver/remote/webelement.py?line=621'>622</a>\u001b[0m     \u001b[39m\"\"\"\u001b[39;00m\n\u001b[0;32m    <a href='file:///c%3A/Users/joshu/AppData/Local/Programs/Python/Python39/lib/site-packages/selenium/webdriver/remote/webelement.py?line=622'>623</a>\u001b[0m \u001b[39m    Gets the screenshot of the current element as a base64 encoded string.\u001b[39;00m\n\u001b[0;32m    <a href='file:///c%3A/Users/joshu/AppData/Local/Programs/Python/Python39/lib/site-packages/selenium/webdriver/remote/webelement.py?line=623'>624</a>\u001b[0m \n\u001b[1;32m   (...)\u001b[0m\n\u001b[0;32m    <a href='file:///c%3A/Users/joshu/AppData/Local/Programs/Python/Python39/lib/site-packages/selenium/webdriver/remote/webelement.py?line=627'>628</a>\u001b[0m \u001b[39m            img_b64 = element.screenshot_as_base64\u001b[39;00m\n\u001b[0;32m    <a href='file:///c%3A/Users/joshu/AppData/Local/Programs/Python/Python39/lib/site-packages/selenium/webdriver/remote/webelement.py?line=628'>629</a>\u001b[0m \u001b[39m    \"\"\"\u001b[39;00m\n\u001b[0;32m    <a href='file:///c%3A/Users/joshu/AppData/Local/Programs/Python/Python39/lib/site-packages/selenium/webdriver/remote/webelement.py?line=629'>630</a>\u001b[0m     \u001b[39mreturn\u001b[39;00m \u001b[39mself\u001b[39m\u001b[39m.\u001b[39m_execute(Command\u001b[39m.\u001b[39mELEMENT_SCREENSHOT)[\u001b[39m'\u001b[39m\u001b[39mvalue\u001b[39m\u001b[39m'\u001b[39m]\n\u001b[0;32m    <a href='file:///c%3A/Users/joshu/AppData/Local/Programs/Python/Python39/lib/site-packages/selenium/webdriver/remote/webelement.py?line=631'>632</a>\u001b[0m \u001b[39m@property\u001b[39m\n\u001b[1;32m--> <a href='file:///c%3A/Users/joshu/AppData/Local/Programs/Python/Python39/lib/site-packages/selenium/webdriver/remote/webelement.py?line=632'>633</a>\u001b[0m \u001b[39mdef\u001b[39;00m \u001b[39mscreenshot_as_png\u001b[39m(\u001b[39mself\u001b[39m) \u001b[39m-\u001b[39m\u001b[39m>\u001b[39m \u001b[39mstr\u001b[39m:\n\u001b[0;32m    <a href='file:///c%3A/Users/joshu/AppData/Local/Programs/Python/Python39/lib/site-packages/selenium/webdriver/remote/webelement.py?line=633'>634</a>\u001b[0m     \u001b[39m\"\"\"\u001b[39;00m\n\u001b[0;32m    <a href='file:///c%3A/Users/joshu/AppData/Local/Programs/Python/Python39/lib/site-packages/selenium/webdriver/remote/webelement.py?line=634'>635</a>\u001b[0m \u001b[39m    Gets the screenshot of the current element as a binary data.\u001b[39;00m\n\u001b[0;32m    <a href='file:///c%3A/Users/joshu/AppData/Local/Programs/Python/Python39/lib/site-packages/selenium/webdriver/remote/webelement.py?line=635'>636</a>\u001b[0m \n\u001b[1;32m   (...)\u001b[0m\n\u001b[0;32m    <a href='file:///c%3A/Users/joshu/AppData/Local/Programs/Python/Python39/lib/site-packages/selenium/webdriver/remote/webelement.py?line=639'>640</a>\u001b[0m \u001b[39m            element_png = element.screenshot_as_png\u001b[39;00m\n\u001b[0;32m    <a href='file:///c%3A/Users/joshu/AppData/Local/Programs/Python/Python39/lib/site-packages/selenium/webdriver/remote/webelement.py?line=640'>641</a>\u001b[0m \u001b[39m    \"\"\"\u001b[39;00m\n\u001b[0;32m    <a href='file:///c%3A/Users/joshu/AppData/Local/Programs/Python/Python39/lib/site-packages/selenium/webdriver/remote/webelement.py?line=641'>642</a>\u001b[0m     \u001b[39mreturn\u001b[39;00m b64decode(\u001b[39mself\u001b[39m\u001b[39m.\u001b[39mscreenshot_as_base64\u001b[39m.\u001b[39mencode(\u001b[39m'\u001b[39m\u001b[39mascii\u001b[39m\u001b[39m'\u001b[39m))\n",
      "File \u001b[1;32m~\\AppData\\Local\\Programs\\Python\\Python39\\lib\\site-packages\\selenium\\webdriver\\remote\\webdriver.py:321\u001b[0m, in \u001b[0;36mexecute\u001b[1;34m(self, driver_command, params)\u001b[0m\n\u001b[0;32m    <a href='file:///c%3A/Users/joshu/AppData/Local/Programs/Python/Python39/lib/site-packages/selenium/webdriver/remote/webdriver.py?line=313'>314</a>\u001b[0m \u001b[39m@property\u001b[39m\n\u001b[0;32m    <a href='file:///c%3A/Users/joshu/AppData/Local/Programs/Python/Python39/lib/site-packages/selenium/webdriver/remote/webdriver.py?line=314'>315</a>\u001b[0m \u001b[39mdef\u001b[39;00m \u001b[39mname\u001b[39m(\u001b[39mself\u001b[39m) \u001b[39m-\u001b[39m\u001b[39m>\u001b[39m \u001b[39mstr\u001b[39m:\n\u001b[0;32m    <a href='file:///c%3A/Users/joshu/AppData/Local/Programs/Python/Python39/lib/site-packages/selenium/webdriver/remote/webdriver.py?line=315'>316</a>\u001b[0m     \u001b[39m\"\"\"Returns the name of the underlying browser for this instance.\u001b[39;00m\n\u001b[0;32m    <a href='file:///c%3A/Users/joshu/AppData/Local/Programs/Python/Python39/lib/site-packages/selenium/webdriver/remote/webdriver.py?line=316'>317</a>\u001b[0m \n\u001b[0;32m    <a href='file:///c%3A/Users/joshu/AppData/Local/Programs/Python/Python39/lib/site-packages/selenium/webdriver/remote/webdriver.py?line=317'>318</a>\u001b[0m \u001b[39m    :Usage:\u001b[39;00m\n\u001b[0;32m    <a href='file:///c%3A/Users/joshu/AppData/Local/Programs/Python/Python39/lib/site-packages/selenium/webdriver/remote/webdriver.py?line=318'>319</a>\u001b[0m \u001b[39m        ::\u001b[39;00m\n\u001b[0;32m    <a href='file:///c%3A/Users/joshu/AppData/Local/Programs/Python/Python39/lib/site-packages/selenium/webdriver/remote/webdriver.py?line=319'>320</a>\u001b[0m \n\u001b[1;32m--> <a href='file:///c%3A/Users/joshu/AppData/Local/Programs/Python/Python39/lib/site-packages/selenium/webdriver/remote/webdriver.py?line=320'>321</a>\u001b[0m \u001b[39m            name = driver.name\u001b[39;00m\n\u001b[0;32m    <a href='file:///c%3A/Users/joshu/AppData/Local/Programs/Python/Python39/lib/site-packages/selenium/webdriver/remote/webdriver.py?line=321'>322</a>\u001b[0m \u001b[39m    \"\"\"\u001b[39;00m\n\u001b[0;32m    <a href='file:///c%3A/Users/joshu/AppData/Local/Programs/Python/Python39/lib/site-packages/selenium/webdriver/remote/webdriver.py?line=322'>323</a>\u001b[0m     \u001b[39mif\u001b[39;00m \u001b[39m'\u001b[39m\u001b[39mbrowserName\u001b[39m\u001b[39m'\u001b[39m \u001b[39min\u001b[39;00m \u001b[39mself\u001b[39m\u001b[39m.\u001b[39mcaps:\n\u001b[0;32m    <a href='file:///c%3A/Users/joshu/AppData/Local/Programs/Python/Python39/lib/site-packages/selenium/webdriver/remote/webdriver.py?line=323'>324</a>\u001b[0m         \u001b[39mreturn\u001b[39;00m \u001b[39mself\u001b[39m\u001b[39m.\u001b[39mcaps[\u001b[39m'\u001b[39m\u001b[39mbrowserName\u001b[39m\u001b[39m'\u001b[39m]\n",
      "File \u001b[1;32m~\\AppData\\Local\\Programs\\Python\\Python39\\lib\\site-packages\\selenium\\webdriver\\remote\\errorhandler.py:242\u001b[0m, in \u001b[0;36mcheck_response\u001b[1;34m(self, response)\u001b[0m\n\u001b[0;32m    <a href='file:///c%3A/Users/joshu/AppData/Local/Programs/Python/Python39/lib/site-packages/selenium/webdriver/remote/errorhandler.py?line=239'>240</a>\u001b[0m \u001b[39mif\u001b[39;00m exception_class \u001b[39m==\u001b[39m UnexpectedAlertPresentException:\n\u001b[0;32m    <a href='file:///c%3A/Users/joshu/AppData/Local/Programs/Python/Python39/lib/site-packages/selenium/webdriver/remote/errorhandler.py?line=240'>241</a>\u001b[0m     alert_text \u001b[39m=\u001b[39m \u001b[39mNone\u001b[39;00m\n\u001b[1;32m--> <a href='file:///c%3A/Users/joshu/AppData/Local/Programs/Python/Python39/lib/site-packages/selenium/webdriver/remote/errorhandler.py?line=241'>242</a>\u001b[0m     \u001b[39mif\u001b[39;00m \u001b[39m'\u001b[39m\u001b[39mdata\u001b[39m\u001b[39m'\u001b[39m \u001b[39min\u001b[39;00m value:\n\u001b[0;32m    <a href='file:///c%3A/Users/joshu/AppData/Local/Programs/Python/Python39/lib/site-packages/selenium/webdriver/remote/errorhandler.py?line=242'>243</a>\u001b[0m         alert_text \u001b[39m=\u001b[39m value[\u001b[39m'\u001b[39m\u001b[39mdata\u001b[39m\u001b[39m'\u001b[39m]\u001b[39m.\u001b[39mget(\u001b[39m'\u001b[39m\u001b[39mtext\u001b[39m\u001b[39m'\u001b[39m)\n\u001b[0;32m    <a href='file:///c%3A/Users/joshu/AppData/Local/Programs/Python/Python39/lib/site-packages/selenium/webdriver/remote/errorhandler.py?line=243'>244</a>\u001b[0m     \u001b[39melif\u001b[39;00m \u001b[39m'\u001b[39m\u001b[39malert\u001b[39m\u001b[39m'\u001b[39m \u001b[39min\u001b[39;00m value:\n",
      "\u001b[1;31mStaleElementReferenceException\u001b[0m: Message: stale element reference: element is not attached to the page document\n  (Session info: chrome=99.0.4844.51)\n"
     ]
    }
   ],
   "source": [
    "jd = []\n",
    "seniority = []\n",
    "emp_type = []\n",
    "job_func = []\n",
    "industries = []\n",
    "\n",
    "for item in range(len(jobs)):\n",
    "    job_func0=[]\n",
    "    industries0=[]\n",
    "    # clicking job to view job details\n",
    "    job_click_path = f'/html/body/div[1]/div/main/section[2]/ul/li[{item+1}]/div/a'\n",
    "    job_click=job.find_element(by=By.XPATH, value=job_click_path).click()\n",
    "\n",
    "    jd_path = '/html/body/div[1]/div/section/div[2]/div[1]/section[1]/div/div/section'\n",
    "    jd0=job.find_element(by=By.XPATH, value=jd_path).get_attribute('innerText')\n",
    "    jd.append(jd0)\n",
    "    \n",
    "    time.sleep(10)"
   ]
  },
  {
   "cell_type": "code",
   "execution_count": 117,
   "id": "16c226c4",
   "metadata": {},
   "outputs": [],
   "source": [
    "job_data = pd.DataFrame({\n",
    "    'Date': date,\n",
    "    'Company': company_name,\n",
    "    'Title': job_title,\n",
    "    'Location': location,\n",
    "    'Description': jd,\n",
    "    'Link': job_link\n",
    "})# cleaning description column\n",
    "\n",
    "job_data['Description'] = job_data['Description'].str.replace('\\n',' ')\n",
    "# job_data.to_excel('LinkedIn Job.xlsx', index = False)"
   ]
  },
  {
   "cell_type": "code",
   "execution_count": 116,
   "id": "a90b8cd4",
   "metadata": {},
   "outputs": [
    {
     "data": {
      "text/html": [
       "<div>\n",
       "<style scoped>\n",
       "    .dataframe tbody tr th:only-of-type {\n",
       "        vertical-align: middle;\n",
       "    }\n",
       "\n",
       "    .dataframe tbody tr th {\n",
       "        vertical-align: top;\n",
       "    }\n",
       "\n",
       "    .dataframe thead th {\n",
       "        text-align: right;\n",
       "    }\n",
       "</style>\n",
       "<table border=\"1\" class=\"dataframe\">\n",
       "  <thead>\n",
       "    <tr style=\"text-align: right;\">\n",
       "      <th></th>\n",
       "      <th>Date</th>\n",
       "      <th>Company</th>\n",
       "      <th>Title</th>\n",
       "      <th>Location</th>\n",
       "      <th>Description</th>\n",
       "      <th>Link</th>\n",
       "    </tr>\n",
       "  </thead>\n",
       "  <tbody>\n",
       "    <tr>\n",
       "      <th>0</th>\n",
       "      <td>2022-02-25</td>\n",
       "      <td>Limbik</td>\n",
       "      <td>Data Scientist</td>\n",
       "      <td>Waterloo, Ontario, Canada</td>\n",
       "      <td>Limbik is the leading information defense syst...</td>\n",
       "      <td>https://ca.linkedin.com/jobs/view/data-scienti...</td>\n",
       "    </tr>\n",
       "    <tr>\n",
       "      <th>1</th>\n",
       "      <td>2022-02-27</td>\n",
       "      <td>Praemo</td>\n",
       "      <td>Data Scientist</td>\n",
       "      <td>Kitchener, Ontario, Canada</td>\n",
       "      <td>Limbik is the leading informat...</td>\n",
       "      <td>https://ca.linkedin.com/jobs/view/data-scienti...</td>\n",
       "    </tr>\n",
       "    <tr>\n",
       "      <th>2</th>\n",
       "      <td>2022-03-01</td>\n",
       "      <td>TripleLift</td>\n",
       "      <td>Senior Data Scientist</td>\n",
       "      <td>Kitchener, Ontario, Canada</td>\n",
       "      <td>Responsibilities Build machine...</td>\n",
       "      <td>https://ca.linkedin.com/jobs/view/senior-data-...</td>\n",
       "    </tr>\n",
       "    <tr>\n",
       "      <th>3</th>\n",
       "      <td>2022-01-18</td>\n",
       "      <td>Siemens</td>\n",
       "      <td>Data Scientist</td>\n",
       "      <td>Kitchener, Ontario, Canada</td>\n",
       "      <td>About TripleLiftTripleLift is ...</td>\n",
       "      <td>https://ca.linkedin.com/jobs/view/data-scienti...</td>\n",
       "    </tr>\n",
       "    <tr>\n",
       "      <th>4</th>\n",
       "      <td>2022-02-26</td>\n",
       "      <td>PerkinElmer, Inc.</td>\n",
       "      <td>Machine Learning Engineer</td>\n",
       "      <td>Kitchener, Ontario, Canada</td>\n",
       "      <td>Change the future with us.We a...</td>\n",
       "      <td>https://ca.linkedin.com/jobs/view/machine-lear...</td>\n",
       "    </tr>\n",
       "  </tbody>\n",
       "</table>\n",
       "</div>"
      ],
      "text/plain": [
       "         Date            Company                      Title  \\\n",
       "0  2022-02-25             Limbik             Data Scientist   \n",
       "1  2022-02-27             Praemo             Data Scientist   \n",
       "2  2022-03-01         TripleLift      Senior Data Scientist   \n",
       "3  2022-01-18            Siemens             Data Scientist   \n",
       "4  2022-02-26  PerkinElmer, Inc.  Machine Learning Engineer   \n",
       "\n",
       "                     Location  \\\n",
       "0   Waterloo, Ontario, Canada   \n",
       "1  Kitchener, Ontario, Canada   \n",
       "2  Kitchener, Ontario, Canada   \n",
       "3  Kitchener, Ontario, Canada   \n",
       "4  Kitchener, Ontario, Canada   \n",
       "\n",
       "                                         Description  \\\n",
       "0  Limbik is the leading information defense syst...   \n",
       "1                  Limbik is the leading informat...   \n",
       "2                  Responsibilities Build machine...   \n",
       "3                  About TripleLiftTripleLift is ...   \n",
       "4                  Change the future with us.We a...   \n",
       "\n",
       "                                                Link  \n",
       "0  https://ca.linkedin.com/jobs/view/data-scienti...  \n",
       "1  https://ca.linkedin.com/jobs/view/data-scienti...  \n",
       "2  https://ca.linkedin.com/jobs/view/senior-data-...  \n",
       "3  https://ca.linkedin.com/jobs/view/data-scienti...  \n",
       "4  https://ca.linkedin.com/jobs/view/machine-lear...  "
      ]
     },
     "execution_count": 116,
     "metadata": {},
     "output_type": "execute_result"
    }
   ],
   "source": [
    "job_data.head()"
   ]
  },
  {
   "cell_type": "code",
   "execution_count": null,
   "id": "1817665a",
   "metadata": {},
   "outputs": [],
   "source": []
  }
 ],
 "metadata": {
  "kernelspec": {
   "display_name": "Python 3 (ipykernel)",
   "language": "python",
   "name": "python3"
  },
  "language_info": {
   "codemirror_mode": {
    "name": "ipython",
    "version": 3
   },
   "file_extension": ".py",
   "mimetype": "text/x-python",
   "name": "python",
   "nbconvert_exporter": "python",
   "pygments_lexer": "ipython3",
   "version": "3.9.1"
  }
 },
 "nbformat": 4,
 "nbformat_minor": 5
}
