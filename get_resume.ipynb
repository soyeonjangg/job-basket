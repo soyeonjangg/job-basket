{
 "cells": [
  {
   "cell_type": "code",
   "execution_count": null,
   "id": "f2bbdddb",
   "metadata": {},
   "outputs": [],
   "source": [
    "!pip install Pyrebase"
   ]
  },
  {
   "cell_type": "code",
   "execution_count": null,
   "id": "abba7449",
   "metadata": {},
   "outputs": [],
   "source": [
    "!pip install firebase-admin"
   ]
  },
  {
   "cell_type": "code",
   "execution_count": 12,
   "id": "927a7770",
   "metadata": {},
   "outputs": [],
   "source": [
    "# need to install poppler in order to use pdftotext\n",
    "\n",
    "# for mac:\n",
    "# !brew install poppler\n",
    "\n",
    "# for windows that have anaconda installed:\n",
    "# conda install -c conda-forge poppler"
   ]
  },
  {
   "cell_type": "code",
   "execution_count": null,
   "id": "5669c240",
   "metadata": {},
   "outputs": [],
   "source": [
    "!pip install pdftotext"
   ]
  },
  {
   "cell_type": "code",
   "execution_count": 3,
   "id": "17292faa",
   "metadata": {},
   "outputs": [],
   "source": [
    "import pyrebase\n",
    "import pdftotext"
   ]
  },
  {
   "cell_type": "code",
   "execution_count": 9,
   "id": "fff319b6",
   "metadata": {},
   "outputs": [],
   "source": [
    "# require service account file\n",
    "# \"databaseURL\": \"\"\n",
    "firebase_config = {\n",
    "     \"\"\"\n",
    "    \"apiKey\": ,\n",
    "    \"authDomain\": ,\n",
    "    \"projectId\": ,\n",
    "    \"storageBucket\": ,\n",
    "    \"messagingSenderId\":,\n",
    "    \"appId\": ,\n",
    "    \"measurementId\": ,\n",
    "    \"databaseURL\": \"\",\n",
    "    \"serviceAccount\": \"<path to SA key>\"\n",
    "    \"\"\"\n",
    "\n",
    "}\n",
    "\n",
    "firebase_storage = pyrebase.initialize_app(firebase_config)\n",
    "storage = firebase_storage.storage()"
   ]
  },
  {
   "cell_type": "code",
   "execution_count": 10,
   "id": "0fdea5d0",
   "metadata": {},
   "outputs": [
    {
     "name": "stdout",
     "output_type": "stream",
     "text": [
      "PMBOK6-2017.pdf\n"
     ]
    }
   ],
   "source": [
    "files = storage.list_files()\n",
    "for file in files:\n",
    "    print(file.name)\n",
    "    file.download_to_filename(file.name)"
   ]
  },
  {
   "cell_type": "code",
   "execution_count": 11,
   "id": "c07ec950",
   "metadata": {},
   "outputs": [],
   "source": [
    "with open(f'{file.name}', \"rb\") as f:\n",
    "    pdf = pdftotext.PDF(f)\n",
    "\n",
    "with open(f'resume.txt', 'w') as txt:\n",
    "    # Iterate over all the pages\n",
    "    for page in pdf:\n",
    "        txt.writelines(page)"
   ]
  },
  {
   "cell_type": "code",
   "execution_count": null,
   "id": "1acd9a73",
   "metadata": {},
   "outputs": [],
   "source": []
  }
 ],
 "metadata": {
  "kernelspec": {
   "display_name": "Python 3 (ipykernel)",
   "language": "python",
   "name": "python3"
  },
  "language_info": {
   "codemirror_mode": {
    "name": "ipython",
    "version": 3
   },
   "file_extension": ".py",
   "mimetype": "text/x-python",
   "name": "python",
   "nbconvert_exporter": "python",
   "pygments_lexer": "ipython3",
   "version": "3.8.9"
  }
 },
 "nbformat": 4,
 "nbformat_minor": 5
}
